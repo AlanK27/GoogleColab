{
  "nbformat": 4,
  "nbformat_minor": 0,
  "metadata": {
    "colab": {
      "name": "extracting_data.ipynb",
      "provenance": [],
      "collapsed_sections": [],
      "mount_file_id": "1n_-pI9tY13qAafGrXsNuK0Isy_mlI_vb",
      "authorship_tag": "ABX9TyPKy2noa5ZOs7mwt5KrILP2"
    },
    "kernelspec": {
      "name": "python3",
      "display_name": "Python 3"
    },
    "widgets": {
      "application/vnd.jupyter.widget-state+json": {
        "44a11173314d42bdb4c8305b61b293e2": {
          "model_module": "@jupyter-widgets/controls",
          "model_name": "VBoxModel",
          "state": {
            "_view_name": "VBoxView",
            "_dom_classes": [
              "widget-interact"
            ],
            "_model_name": "VBoxModel",
            "_view_module": "@jupyter-widgets/controls",
            "_model_module_version": "1.5.0",
            "_view_count": null,
            "_view_module_version": "1.5.0",
            "box_style": "",
            "layout": "IPY_MODEL_dc1ca5c2ad4c48f8bfeb4b84d0076a93",
            "_model_module": "@jupyter-widgets/controls",
            "children": [
              "IPY_MODEL_df950f380d044851aa2cb6e79f361762",
              "IPY_MODEL_b0cd206fe55b4fb1b4c6b068f9a7c8f0"
            ]
          }
        },
        "dc1ca5c2ad4c48f8bfeb4b84d0076a93": {
          "model_module": "@jupyter-widgets/base",
          "model_name": "LayoutModel",
          "state": {
            "_view_name": "LayoutView",
            "grid_template_rows": null,
            "right": null,
            "justify_content": null,
            "_view_module": "@jupyter-widgets/base",
            "overflow": null,
            "_model_module_version": "1.2.0",
            "_view_count": null,
            "flex_flow": null,
            "width": null,
            "min_width": null,
            "border": null,
            "align_items": null,
            "bottom": null,
            "_model_module": "@jupyter-widgets/base",
            "top": null,
            "grid_column": null,
            "overflow_y": null,
            "overflow_x": null,
            "grid_auto_flow": null,
            "grid_area": null,
            "grid_template_columns": null,
            "flex": null,
            "_model_name": "LayoutModel",
            "justify_items": null,
            "grid_row": null,
            "max_height": null,
            "align_content": null,
            "visibility": null,
            "align_self": null,
            "height": null,
            "min_height": null,
            "padding": null,
            "grid_auto_rows": null,
            "grid_gap": null,
            "max_width": null,
            "order": null,
            "_view_module_version": "1.2.0",
            "grid_template_areas": null,
            "object_position": null,
            "object_fit": null,
            "grid_auto_columns": null,
            "margin": null,
            "display": null,
            "left": null
          }
        },
        "df950f380d044851aa2cb6e79f361762": {
          "model_module": "@jupyter-widgets/controls",
          "model_name": "IntSliderModel",
          "state": {
            "_view_name": "IntSliderView",
            "style": "IPY_MODEL_15cf95bd56f04e48a2c4e02fa70c312c",
            "_dom_classes": [],
            "description": "hours",
            "step": 1,
            "_model_name": "IntSliderModel",
            "orientation": "horizontal",
            "max": 23,
            "_view_module": "@jupyter-widgets/controls",
            "_model_module_version": "1.5.0",
            "value": 23,
            "_view_count": null,
            "disabled": false,
            "_view_module_version": "1.5.0",
            "min": 0,
            "continuous_update": true,
            "readout_format": "d",
            "description_tooltip": null,
            "readout": true,
            "_model_module": "@jupyter-widgets/controls",
            "layout": "IPY_MODEL_185feb1eecb34afb8a6cbc5b2d59424d"
          }
        },
        "b0cd206fe55b4fb1b4c6b068f9a7c8f0": {
          "model_module": "@jupyter-widgets/output",
          "model_name": "OutputModel",
          "state": {
            "_view_name": "OutputView",
            "msg_id": "",
            "_dom_classes": [],
            "_model_name": "OutputModel",
            "outputs": [
              {
                "output_type": "display_data",
                "metadata": {
                  "tags": [],
                  "needs_background": "light"
                },
                "image/png": "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\n",
                "text/plain": "<Figure size 720x504 with 1 Axes>"
              }
            ],
            "_view_module": "@jupyter-widgets/output",
            "_model_module_version": "1.0.0",
            "_view_count": null,
            "_view_module_version": "1.0.0",
            "layout": "IPY_MODEL_032f66062c914ae5baadfc5351362f98",
            "_model_module": "@jupyter-widgets/output"
          }
        },
        "15cf95bd56f04e48a2c4e02fa70c312c": {
          "model_module": "@jupyter-widgets/controls",
          "model_name": "SliderStyleModel",
          "state": {
            "_view_name": "StyleView",
            "handle_color": null,
            "_model_name": "SliderStyleModel",
            "description_width": "",
            "_view_module": "@jupyter-widgets/base",
            "_model_module_version": "1.5.0",
            "_view_count": null,
            "_view_module_version": "1.2.0",
            "_model_module": "@jupyter-widgets/controls"
          }
        },
        "185feb1eecb34afb8a6cbc5b2d59424d": {
          "model_module": "@jupyter-widgets/base",
          "model_name": "LayoutModel",
          "state": {
            "_view_name": "LayoutView",
            "grid_template_rows": null,
            "right": null,
            "justify_content": null,
            "_view_module": "@jupyter-widgets/base",
            "overflow": null,
            "_model_module_version": "1.2.0",
            "_view_count": null,
            "flex_flow": null,
            "width": null,
            "min_width": null,
            "border": null,
            "align_items": null,
            "bottom": null,
            "_model_module": "@jupyter-widgets/base",
            "top": null,
            "grid_column": null,
            "overflow_y": null,
            "overflow_x": null,
            "grid_auto_flow": null,
            "grid_area": null,
            "grid_template_columns": null,
            "flex": null,
            "_model_name": "LayoutModel",
            "justify_items": null,
            "grid_row": null,
            "max_height": null,
            "align_content": null,
            "visibility": null,
            "align_self": null,
            "height": null,
            "min_height": null,
            "padding": null,
            "grid_auto_rows": null,
            "grid_gap": null,
            "max_width": null,
            "order": null,
            "_view_module_version": "1.2.0",
            "grid_template_areas": null,
            "object_position": null,
            "object_fit": null,
            "grid_auto_columns": null,
            "margin": null,
            "display": null,
            "left": null
          }
        },
        "032f66062c914ae5baadfc5351362f98": {
          "model_module": "@jupyter-widgets/base",
          "model_name": "LayoutModel",
          "state": {
            "_view_name": "LayoutView",
            "grid_template_rows": null,
            "right": null,
            "justify_content": null,
            "_view_module": "@jupyter-widgets/base",
            "overflow": null,
            "_model_module_version": "1.2.0",
            "_view_count": null,
            "flex_flow": null,
            "width": null,
            "min_width": null,
            "border": null,
            "align_items": null,
            "bottom": null,
            "_model_module": "@jupyter-widgets/base",
            "top": null,
            "grid_column": null,
            "overflow_y": null,
            "overflow_x": null,
            "grid_auto_flow": null,
            "grid_area": null,
            "grid_template_columns": null,
            "flex": null,
            "_model_name": "LayoutModel",
            "justify_items": null,
            "grid_row": null,
            "max_height": null,
            "align_content": null,
            "visibility": null,
            "align_self": null,
            "height": null,
            "min_height": null,
            "padding": null,
            "grid_auto_rows": null,
            "grid_gap": null,
            "max_width": null,
            "order": null,
            "_view_module_version": "1.2.0",
            "grid_template_areas": null,
            "object_position": null,
            "object_fit": null,
            "grid_auto_columns": null,
            "margin": null,
            "display": null,
            "left": null
          }
        },
        "337df701dd8f4cfeb0e14aa061200d23": {
          "model_module": "@jupyter-widgets/controls",
          "model_name": "VBoxModel",
          "state": {
            "_view_name": "VBoxView",
            "_dom_classes": [
              "widget-interact"
            ],
            "_model_name": "VBoxModel",
            "_view_module": "@jupyter-widgets/controls",
            "_model_module_version": "1.5.0",
            "_view_count": null,
            "_view_module_version": "1.5.0",
            "box_style": "",
            "layout": "IPY_MODEL_af72fe8e00ca43e2954ee0caeacb16b7",
            "_model_module": "@jupyter-widgets/controls",
            "children": [
              "IPY_MODEL_0462958716e7438ebbf4e00f5ed39366",
              "IPY_MODEL_9ea5cb3beb2a47588b530d147f22503c"
            ]
          }
        },
        "af72fe8e00ca43e2954ee0caeacb16b7": {
          "model_module": "@jupyter-widgets/base",
          "model_name": "LayoutModel",
          "state": {
            "_view_name": "LayoutView",
            "grid_template_rows": null,
            "right": null,
            "justify_content": null,
            "_view_module": "@jupyter-widgets/base",
            "overflow": null,
            "_model_module_version": "1.2.0",
            "_view_count": null,
            "flex_flow": null,
            "width": null,
            "min_width": null,
            "border": null,
            "align_items": null,
            "bottom": null,
            "_model_module": "@jupyter-widgets/base",
            "top": null,
            "grid_column": null,
            "overflow_y": null,
            "overflow_x": null,
            "grid_auto_flow": null,
            "grid_area": null,
            "grid_template_columns": null,
            "flex": null,
            "_model_name": "LayoutModel",
            "justify_items": null,
            "grid_row": null,
            "max_height": null,
            "align_content": null,
            "visibility": null,
            "align_self": null,
            "height": null,
            "min_height": null,
            "padding": null,
            "grid_auto_rows": null,
            "grid_gap": null,
            "max_width": null,
            "order": null,
            "_view_module_version": "1.2.0",
            "grid_template_areas": null,
            "object_position": null,
            "object_fit": null,
            "grid_auto_columns": null,
            "margin": null,
            "display": null,
            "left": null
          }
        },
        "0462958716e7438ebbf4e00f5ed39366": {
          "model_module": "@jupyter-widgets/controls",
          "model_name": "IntSliderModel",
          "state": {
            "_view_name": "IntSliderView",
            "style": "IPY_MODEL_761a8e440908488abbb826382aac1dbf",
            "_dom_classes": [],
            "description": "hours",
            "step": 1,
            "_model_name": "IntSliderModel",
            "orientation": "horizontal",
            "max": 23,
            "_view_module": "@jupyter-widgets/controls",
            "_model_module_version": "1.5.0",
            "value": 23,
            "_view_count": null,
            "disabled": false,
            "_view_module_version": "1.5.0",
            "min": 0,
            "continuous_update": true,
            "readout_format": "d",
            "description_tooltip": null,
            "readout": true,
            "_model_module": "@jupyter-widgets/controls",
            "layout": "IPY_MODEL_4b2a6694730945c0850a80c7b55a10ad"
          }
        },
        "9ea5cb3beb2a47588b530d147f22503c": {
          "model_module": "@jupyter-widgets/output",
          "model_name": "OutputModel",
          "state": {
            "_view_name": "OutputView",
            "msg_id": "",
            "_dom_classes": [],
            "_model_name": "OutputModel",
            "outputs": [
              {
                "output_type": "display_data",
                "metadata": {
                  "tags": [],
                  "needs_background": "light"
                },
                "image/png": "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\n",
                "text/plain": "<Figure size 864x720 with 2 Axes>"
              }
            ],
            "_view_module": "@jupyter-widgets/output",
            "_model_module_version": "1.0.0",
            "_view_count": null,
            "_view_module_version": "1.0.0",
            "layout": "IPY_MODEL_39e6d1f9605f47bfbcea3aae20af0cd8",
            "_model_module": "@jupyter-widgets/output"
          }
        },
        "761a8e440908488abbb826382aac1dbf": {
          "model_module": "@jupyter-widgets/controls",
          "model_name": "SliderStyleModel",
          "state": {
            "_view_name": "StyleView",
            "handle_color": null,
            "_model_name": "SliderStyleModel",
            "description_width": "",
            "_view_module": "@jupyter-widgets/base",
            "_model_module_version": "1.5.0",
            "_view_count": null,
            "_view_module_version": "1.2.0",
            "_model_module": "@jupyter-widgets/controls"
          }
        },
        "4b2a6694730945c0850a80c7b55a10ad": {
          "model_module": "@jupyter-widgets/base",
          "model_name": "LayoutModel",
          "state": {
            "_view_name": "LayoutView",
            "grid_template_rows": null,
            "right": null,
            "justify_content": null,
            "_view_module": "@jupyter-widgets/base",
            "overflow": null,
            "_model_module_version": "1.2.0",
            "_view_count": null,
            "flex_flow": null,
            "width": null,
            "min_width": null,
            "border": null,
            "align_items": null,
            "bottom": null,
            "_model_module": "@jupyter-widgets/base",
            "top": null,
            "grid_column": null,
            "overflow_y": null,
            "overflow_x": null,
            "grid_auto_flow": null,
            "grid_area": null,
            "grid_template_columns": null,
            "flex": null,
            "_model_name": "LayoutModel",
            "justify_items": null,
            "grid_row": null,
            "max_height": null,
            "align_content": null,
            "visibility": null,
            "align_self": null,
            "height": null,
            "min_height": null,
            "padding": null,
            "grid_auto_rows": null,
            "grid_gap": null,
            "max_width": null,
            "order": null,
            "_view_module_version": "1.2.0",
            "grid_template_areas": null,
            "object_position": null,
            "object_fit": null,
            "grid_auto_columns": null,
            "margin": null,
            "display": null,
            "left": null
          }
        },
        "39e6d1f9605f47bfbcea3aae20af0cd8": {
          "model_module": "@jupyter-widgets/base",
          "model_name": "LayoutModel",
          "state": {
            "_view_name": "LayoutView",
            "grid_template_rows": null,
            "right": null,
            "justify_content": null,
            "_view_module": "@jupyter-widgets/base",
            "overflow": null,
            "_model_module_version": "1.2.0",
            "_view_count": null,
            "flex_flow": null,
            "width": null,
            "min_width": null,
            "border": null,
            "align_items": null,
            "bottom": null,
            "_model_module": "@jupyter-widgets/base",
            "top": null,
            "grid_column": null,
            "overflow_y": null,
            "overflow_x": null,
            "grid_auto_flow": null,
            "grid_area": null,
            "grid_template_columns": null,
            "flex": null,
            "_model_name": "LayoutModel",
            "justify_items": null,
            "grid_row": null,
            "max_height": null,
            "align_content": null,
            "visibility": null,
            "align_self": null,
            "height": null,
            "min_height": null,
            "padding": null,
            "grid_auto_rows": null,
            "grid_gap": null,
            "max_width": null,
            "order": null,
            "_view_module_version": "1.2.0",
            "grid_template_areas": null,
            "object_position": null,
            "object_fit": null,
            "grid_auto_columns": null,
            "margin": null,
            "display": null,
            "left": null
          }
        }
      }
    }
  },
  "cells": [
    {
      "cell_type": "markdown",
      "metadata": {
        "id": "4r9xdJWXi6LL",
        "colab_type": "text"
      },
      "source": [
        "Objective: \\\n",
        "Predict the number of trips between origin and destination for the next week"
      ]
    },
    {
      "cell_type": "code",
      "metadata": {
        "id": "Dmta5pclcvvo",
        "colab_type": "code",
        "colab": {
          "base_uri": "https://localhost:8080/",
          "height": 51
        },
        "outputId": "475ef109-5b9a-4a27-c463-6936115a038c"
      },
      "source": [
        "\n",
        "import datetime\n",
        "from ipywidgets import *\n",
        "import itertools\n",
        "import matplotlib.pyplot as plt\n",
        "import numpy as np\n",
        "import pandas as pd\n",
        "# import pydeck as pkd\n",
        "import seaborn as sns\n",
        "from zipfile import ZipFile\n"
      ],
      "execution_count": 1,
      "outputs": [
        {
          "output_type": "stream",
          "text": [
            "/usr/local/lib/python3.6/dist-packages/statsmodels/tools/_testing.py:19: FutureWarning: pandas.util.testing is deprecated. Use the functions in the public API at pandas.testing instead.\n",
            "  import pandas.util.testing as tm\n"
          ],
          "name": "stderr"
        }
      ]
    },
    {
      "cell_type": "code",
      "metadata": {
        "id": "O3CFE1xrcxM3",
        "colab_type": "code",
        "colab": {}
      },
      "source": [
        "zip_path = '/content/drive/My Drive/datasets/BART/bart-ridership.zip'"
      ],
      "execution_count": 2,
      "outputs": []
    },
    {
      "cell_type": "code",
      "metadata": {
        "id": "h_3K18racxKK",
        "colab_type": "code",
        "colab": {
          "base_uri": "https://localhost:8080/",
          "height": 204
        },
        "outputId": "acbd6779-6c51-446c-97fd-60450de9d612"
      },
      "source": [
        "with ZipFile(zip_path) as zf:\n",
        "  for n in zf.namelist():\n",
        "    print(n)"
      ],
      "execution_count": 3,
      "outputs": [
        {
          "output_type": "stream",
          "text": [
            "README.txt\n",
            "ridership/date-hour-soo-dest-2011.csv\n",
            "ridership/date-hour-soo-dest-2012.csv\n",
            "ridership/date-hour-soo-dest-2013.csv\n",
            "ridership/date-hour-soo-dest-2014.csv\n",
            "ridership/date-hour-soo-dest-2015.csv\n",
            "ridership/date-hour-soo-dest-2016.csv\n",
            "ridership/date-hour-soo-dest-2017.csv\n",
            "ridership/date-hour-soo-dest-2018.csv\n",
            "ridership/date-hour-soo-dest-2019.csv\n",
            "ridership/date-hour-soo-dest-2020.csv\n"
          ],
          "name": "stdout"
        }
      ]
    },
    {
      "cell_type": "code",
      "metadata": {
        "id": "YWvo5sc-cxG1",
        "colab_type": "code",
        "colab": {}
      },
      "source": [
        "with ZipFile(zip_path) as zf:\n",
        "  with zf.open('ridership/date-hour-soo-dest-2015.csv') as rf:\n",
        "    df = pd.read_csv(rf, nrows=1500000)"
      ],
      "execution_count": 4,
      "outputs": []
    },
    {
      "cell_type": "code",
      "metadata": {
        "id": "pt1uB7K8cxD7",
        "colab_type": "code",
        "colab": {
          "base_uri": "https://localhost:8080/",
          "height": 204
        },
        "outputId": "495261cb-fdb0-421b-d85d-197e786a048d"
      },
      "source": [
        "df.head()"
      ],
      "execution_count": 5,
      "outputs": [
        {
          "output_type": "execute_result",
          "data": {
            "text/html": [
              "<div>\n",
              "<style scoped>\n",
              "    .dataframe tbody tr th:only-of-type {\n",
              "        vertical-align: middle;\n",
              "    }\n",
              "\n",
              "    .dataframe tbody tr th {\n",
              "        vertical-align: top;\n",
              "    }\n",
              "\n",
              "    .dataframe thead th {\n",
              "        text-align: right;\n",
              "    }\n",
              "</style>\n",
              "<table border=\"1\" class=\"dataframe\">\n",
              "  <thead>\n",
              "    <tr style=\"text-align: right;\">\n",
              "      <th></th>\n",
              "      <th>Date</th>\n",
              "      <th>Hour</th>\n",
              "      <th>Origin Station</th>\n",
              "      <th>Destination Station</th>\n",
              "      <th>Trip Count</th>\n",
              "    </tr>\n",
              "  </thead>\n",
              "  <tbody>\n",
              "    <tr>\n",
              "      <th>0</th>\n",
              "      <td>2015-01-01</td>\n",
              "      <td>0</td>\n",
              "      <td>12TH</td>\n",
              "      <td>12TH</td>\n",
              "      <td>1</td>\n",
              "    </tr>\n",
              "    <tr>\n",
              "      <th>1</th>\n",
              "      <td>2015-01-01</td>\n",
              "      <td>0</td>\n",
              "      <td>12TH</td>\n",
              "      <td>16TH</td>\n",
              "      <td>1</td>\n",
              "    </tr>\n",
              "    <tr>\n",
              "      <th>2</th>\n",
              "      <td>2015-01-01</td>\n",
              "      <td>0</td>\n",
              "      <td>12TH</td>\n",
              "      <td>24TH</td>\n",
              "      <td>3</td>\n",
              "    </tr>\n",
              "    <tr>\n",
              "      <th>3</th>\n",
              "      <td>2015-01-01</td>\n",
              "      <td>0</td>\n",
              "      <td>12TH</td>\n",
              "      <td>ASHB</td>\n",
              "      <td>6</td>\n",
              "    </tr>\n",
              "    <tr>\n",
              "      <th>4</th>\n",
              "      <td>2015-01-01</td>\n",
              "      <td>0</td>\n",
              "      <td>12TH</td>\n",
              "      <td>BALB</td>\n",
              "      <td>3</td>\n",
              "    </tr>\n",
              "  </tbody>\n",
              "</table>\n",
              "</div>"
            ],
            "text/plain": [
              "         Date  Hour Origin Station Destination Station  Trip Count\n",
              "0  2015-01-01     0           12TH                12TH           1\n",
              "1  2015-01-01     0           12TH                16TH           1\n",
              "2  2015-01-01     0           12TH                24TH           3\n",
              "3  2015-01-01     0           12TH                ASHB           6\n",
              "4  2015-01-01     0           12TH                BALB           3"
            ]
          },
          "metadata": {
            "tags": []
          },
          "execution_count": 5
        }
      ]
    },
    {
      "cell_type": "code",
      "metadata": {
        "id": "6TdBrD_Auzhf",
        "colab_type": "code",
        "colab": {}
      },
      "source": [
        "df['Date'] = pd.to_datetime(df['Date'])"
      ],
      "execution_count": 6,
      "outputs": []
    },
    {
      "cell_type": "code",
      "metadata": {
        "id": "4h9bMnTgcxA0",
        "colab_type": "code",
        "colab": {
          "base_uri": "https://localhost:8080/",
          "height": 221
        },
        "outputId": "a8fdd599-1cf0-4e62-bf17-6089c001d429"
      },
      "source": [
        "df.info()"
      ],
      "execution_count": 7,
      "outputs": [
        {
          "output_type": "stream",
          "text": [
            "<class 'pandas.core.frame.DataFrame'>\n",
            "RangeIndex: 1500000 entries, 0 to 1499999\n",
            "Data columns (total 5 columns):\n",
            " #   Column               Non-Null Count    Dtype         \n",
            "---  ------               --------------    -----         \n",
            " 0   Date                 1500000 non-null  datetime64[ns]\n",
            " 1   Hour                 1500000 non-null  int64         \n",
            " 2   Origin Station       1500000 non-null  object        \n",
            " 3   Destination Station  1500000 non-null  object        \n",
            " 4   Trip Count           1500000 non-null  int64         \n",
            "dtypes: datetime64[ns](1), int64(2), object(2)\n",
            "memory usage: 57.2+ MB\n"
          ],
          "name": "stdout"
        }
      ]
    },
    {
      "cell_type": "code",
      "metadata": {
        "id": "CSdJCFUdcw-I",
        "colab_type": "code",
        "colab": {
          "base_uri": "https://localhost:8080/",
          "height": 111
        },
        "outputId": "66b2b640-12a2-4b13-8fed-8776aa80c0d8"
      },
      "source": [
        "df.describe().transpose()"
      ],
      "execution_count": 8,
      "outputs": [
        {
          "output_type": "execute_result",
          "data": {
            "text/html": [
              "<div>\n",
              "<style scoped>\n",
              "    .dataframe tbody tr th:only-of-type {\n",
              "        vertical-align: middle;\n",
              "    }\n",
              "\n",
              "    .dataframe tbody tr th {\n",
              "        vertical-align: top;\n",
              "    }\n",
              "\n",
              "    .dataframe thead th {\n",
              "        text-align: right;\n",
              "    }\n",
              "</style>\n",
              "<table border=\"1\" class=\"dataframe\">\n",
              "  <thead>\n",
              "    <tr style=\"text-align: right;\">\n",
              "      <th></th>\n",
              "      <th>count</th>\n",
              "      <th>mean</th>\n",
              "      <th>std</th>\n",
              "      <th>min</th>\n",
              "      <th>25%</th>\n",
              "      <th>50%</th>\n",
              "      <th>75%</th>\n",
              "      <th>max</th>\n",
              "    </tr>\n",
              "  </thead>\n",
              "  <tbody>\n",
              "    <tr>\n",
              "      <th>Hour</th>\n",
              "      <td>1500000.0</td>\n",
              "      <td>13.633393</td>\n",
              "      <td>5.705375</td>\n",
              "      <td>0.0</td>\n",
              "      <td>9.0</td>\n",
              "      <td>14.0</td>\n",
              "      <td>18.0</td>\n",
              "      <td>23.0</td>\n",
              "    </tr>\n",
              "    <tr>\n",
              "      <th>Trip Count</th>\n",
              "      <td>1500000.0</td>\n",
              "      <td>12.036259</td>\n",
              "      <td>30.937285</td>\n",
              "      <td>1.0</td>\n",
              "      <td>2.0</td>\n",
              "      <td>4.0</td>\n",
              "      <td>10.0</td>\n",
              "      <td>931.0</td>\n",
              "    </tr>\n",
              "  </tbody>\n",
              "</table>\n",
              "</div>"
            ],
            "text/plain": [
              "                count       mean        std  min  25%   50%   75%    max\n",
              "Hour        1500000.0  13.633393   5.705375  0.0  9.0  14.0  18.0   23.0\n",
              "Trip Count  1500000.0  12.036259  30.937285  1.0  2.0   4.0  10.0  931.0"
            ]
          },
          "metadata": {
            "tags": []
          },
          "execution_count": 8
        }
      ]
    },
    {
      "cell_type": "code",
      "metadata": {
        "id": "wOHZK5UacwnK",
        "colab_type": "code",
        "colab": {
          "base_uri": "https://localhost:8080/",
          "height": 221
        },
        "outputId": "60da9df2-02d4-4624-cefc-7ff1f32558d0"
      },
      "source": [
        "df.info()"
      ],
      "execution_count": 9,
      "outputs": [
        {
          "output_type": "stream",
          "text": [
            "<class 'pandas.core.frame.DataFrame'>\n",
            "RangeIndex: 1500000 entries, 0 to 1499999\n",
            "Data columns (total 5 columns):\n",
            " #   Column               Non-Null Count    Dtype         \n",
            "---  ------               --------------    -----         \n",
            " 0   Date                 1500000 non-null  datetime64[ns]\n",
            " 1   Hour                 1500000 non-null  int64         \n",
            " 2   Origin Station       1500000 non-null  object        \n",
            " 3   Destination Station  1500000 non-null  object        \n",
            " 4   Trip Count           1500000 non-null  int64         \n",
            "dtypes: datetime64[ns](1), int64(2), object(2)\n",
            "memory usage: 57.2+ MB\n"
          ],
          "name": "stdout"
        }
      ]
    },
    {
      "cell_type": "code",
      "metadata": {
        "id": "Z67crk-Y98MV",
        "colab_type": "code",
        "colab": {
          "base_uri": "https://localhost:8080/",
          "height": 282
        },
        "outputId": "fb8691b8-3050-4f1b-c3e8-9f37ae685d86"
      },
      "source": [
        "df['Hour'].hist(bins = 24)"
      ],
      "execution_count": 10,
      "outputs": [
        {
          "output_type": "execute_result",
          "data": {
            "text/plain": [
              "<matplotlib.axes._subplots.AxesSubplot at 0x7fd9abcc3c18>"
            ]
          },
          "metadata": {
            "tags": []
          },
          "execution_count": 10
        },
        {
          "output_type": "display_data",
          "data": {
            "image/png": "[encoded data removed]",
            "text/plain": [
              "<Figure size 432x288 with 1 Axes>"
            ]
          },
          "metadata": {
            "tags": [],
            "needs_background": "light"
          }
        }
      ]
    },
    {
      "cell_type": "code",
      "metadata": {
        "id": "TCobgjVe_fLI",
        "colab_type": "code",
        "colab": {
          "base_uri": "https://localhost:8080/",
          "height": 609
        },
        "outputId": "8ad64ec1-06af-4e0a-dff6-278e9132feb1"
      },
      "source": [
        "df['Origin Station'].hist(figsize=(20,10), bins=44)"
      ],
      "execution_count": 11,
      "outputs": [
        {
          "output_type": "execute_result",
          "data": {
            "text/plain": [
              "<matplotlib.axes._subplots.AxesSubplot at 0x7fd9ab706710>"
            ]
          },
          "metadata": {
            "tags": []
          },
          "execution_count": 11
        },
        {
          "output_type": "display_data",
          "data": {
            "image/png": "[encoded data removed]",
            "text/plain": [
              "<Figure size 1440x720 with 1 Axes>"
            ]
          },
          "metadata": {
            "tags": [],
            "needs_background": "light"
          }
        }
      ]
    },
    {
      "cell_type": "code",
      "metadata": {
        "id": "rsClAcaq_f_Z",
        "colab_type": "code",
        "colab": {
          "base_uri": "https://localhost:8080/",
          "height": 119
        },
        "outputId": "d2e0752a-820e-4111-d85c-1945fe71cf30"
      },
      "source": [
        "df['Origin Station'].unique()"
      ],
      "execution_count": 12,
      "outputs": [
        {
          "output_type": "execute_result",
          "data": {
            "text/plain": [
              "array(['12TH', '16TH', '19TH', '24TH', 'ASHB', 'BALB', 'BAYF', 'CAST',\n",
              "       'CIVC', 'COLM', 'COLS', 'CONC', 'DALY', 'DBRK', 'DELN', 'DUBL',\n",
              "       'EMBR', 'FRMT', 'FTVL', 'GLEN', 'HAYW', 'LAFY', 'LAKE', 'MCAR',\n",
              "       'MLBR', 'MONT', 'NBRK', 'NCON', 'OAKL', 'ORIN', 'PHIL', 'PITT',\n",
              "       'PLZA', 'POWL', 'RICH', 'ROCK', 'SANL', 'SBRN', 'SFIA', 'SHAY',\n",
              "       'SSAN', 'UCTY', 'WCRK', 'WDUB', 'WOAK'], dtype=object)"
            ]
          },
          "metadata": {
            "tags": []
          },
          "execution_count": 12
        }
      ]
    },
    {
      "cell_type": "code",
      "metadata": {
        "id": "ES1V1TZnnu6W",
        "colab_type": "code",
        "colab": {}
      },
      "source": [
        "df.columns = [n.lower() for n in df.columns]"
      ],
      "execution_count": 13,
      "outputs": []
    },
    {
      "cell_type": "code",
      "metadata": {
        "id": "QCHSghTZnNrk",
        "colab_type": "code",
        "colab": {
          "base_uri": "https://localhost:8080/",
          "height": 221
        },
        "outputId": "3d5a776c-f362-4dce-eefc-6be822d1e068"
      },
      "source": [
        "df.info()"
      ],
      "execution_count": 14,
      "outputs": [
        {
          "output_type": "stream",
          "text": [
            "<class 'pandas.core.frame.DataFrame'>\n",
            "RangeIndex: 1500000 entries, 0 to 1499999\n",
            "Data columns (total 5 columns):\n",
            " #   Column               Non-Null Count    Dtype         \n",
            "---  ------               --------------    -----         \n",
            " 0   date                 1500000 non-null  datetime64[ns]\n",
            " 1   hour                 1500000 non-null  int64         \n",
            " 2   origin station       1500000 non-null  object        \n",
            " 3   destination station  1500000 non-null  object        \n",
            " 4   trip count           1500000 non-null  int64         \n",
            "dtypes: datetime64[ns](1), int64(2), object(2)\n",
            "memory usage: 57.2+ MB\n"
          ],
          "name": "stdout"
        }
      ]
    },
    {
      "cell_type": "code",
      "metadata": {
        "id": "1tc47X7w1bBM",
        "colab_type": "code",
        "colab": {}
      },
      "source": [
        "week_lis = list(map(lambda x: x.isocalendar()[1], df['date']))\n",
        "df['year'] = df['date'].apply(lambda x: x.year).astype('int32') - 2000\n",
        "df['num_month'] = (df['year']*100) + list(df.date.apply(lambda x: x.month))\n",
        "df['num_week'] = (df['num_month']*100) + week_lis\n",
        "df['num_day'] = (df['num_week']*100) + list(df.date.apply(lambda x: x.day))\n",
        "df['num_hour'] = (df['num_day']*100) + df['hour']"
      ],
      "execution_count": 15,
      "outputs": []
    },
    {
      "cell_type": "code",
      "metadata": {
        "id": "txCF9SMHIOc-",
        "colab_type": "code",
        "colab": {
          "base_uri": "https://localhost:8080/",
          "height": 204
        },
        "outputId": "5fa1e3d8-2d99-4fc9-efb7-be2300c0c8f0"
      },
      "source": [
        "df.tail()"
      ],
      "execution_count": 16,
      "outputs": [
        {
          "output_type": "execute_result",
          "data": {
            "text/html": [
              "<div>\n",
              "<style scoped>\n",
              "    .dataframe tbody tr th:only-of-type {\n",
              "        vertical-align: middle;\n",
              "    }\n",
              "\n",
              "    .dataframe tbody tr th {\n",
              "        vertical-align: top;\n",
              "    }\n",
              "\n",
              "    .dataframe thead th {\n",
              "        text-align: right;\n",
              "    }\n",
              "</style>\n",
              "<table border=\"1\" class=\"dataframe\">\n",
              "  <thead>\n",
              "    <tr style=\"text-align: right;\">\n",
              "      <th></th>\n",
              "      <th>date</th>\n",
              "      <th>hour</th>\n",
              "      <th>origin station</th>\n",
              "      <th>destination station</th>\n",
              "      <th>trip count</th>\n",
              "      <th>year</th>\n",
              "      <th>num_month</th>\n",
              "      <th>num_week</th>\n",
              "      <th>num_day</th>\n",
              "      <th>num_hour</th>\n",
              "    </tr>\n",
              "  </thead>\n",
              "  <tbody>\n",
              "    <tr>\n",
              "      <th>1499995</th>\n",
              "      <td>2015-02-24</td>\n",
              "      <td>22</td>\n",
              "      <td>SBRN</td>\n",
              "      <td>UCTY</td>\n",
              "      <td>1</td>\n",
              "      <td>15</td>\n",
              "      <td>1502</td>\n",
              "      <td>150209</td>\n",
              "      <td>15020924</td>\n",
              "      <td>1502092422</td>\n",
              "    </tr>\n",
              "    <tr>\n",
              "      <th>1499996</th>\n",
              "      <td>2015-02-24</td>\n",
              "      <td>22</td>\n",
              "      <td>SFIA</td>\n",
              "      <td>12TH</td>\n",
              "      <td>8</td>\n",
              "      <td>15</td>\n",
              "      <td>1502</td>\n",
              "      <td>150209</td>\n",
              "      <td>15020924</td>\n",
              "      <td>1502092422</td>\n",
              "    </tr>\n",
              "    <tr>\n",
              "      <th>1499997</th>\n",
              "      <td>2015-02-24</td>\n",
              "      <td>22</td>\n",
              "      <td>SFIA</td>\n",
              "      <td>16TH</td>\n",
              "      <td>9</td>\n",
              "      <td>15</td>\n",
              "      <td>1502</td>\n",
              "      <td>150209</td>\n",
              "      <td>15020924</td>\n",
              "      <td>1502092422</td>\n",
              "    </tr>\n",
              "    <tr>\n",
              "      <th>1499998</th>\n",
              "      <td>2015-02-24</td>\n",
              "      <td>22</td>\n",
              "      <td>SFIA</td>\n",
              "      <td>19TH</td>\n",
              "      <td>1</td>\n",
              "      <td>15</td>\n",
              "      <td>1502</td>\n",
              "      <td>150209</td>\n",
              "      <td>15020924</td>\n",
              "      <td>1502092422</td>\n",
              "    </tr>\n",
              "    <tr>\n",
              "      <th>1499999</th>\n",
              "      <td>2015-02-24</td>\n",
              "      <td>22</td>\n",
              "      <td>SFIA</td>\n",
              "      <td>24TH</td>\n",
              "      <td>11</td>\n",
              "      <td>15</td>\n",
              "      <td>1502</td>\n",
              "      <td>150209</td>\n",
              "      <td>15020924</td>\n",
              "      <td>1502092422</td>\n",
              "    </tr>\n",
              "  </tbody>\n",
              "</table>\n",
              "</div>"
            ],
            "text/plain": [
              "              date  hour origin station  ... num_week   num_day    num_hour\n",
              "1499995 2015-02-24    22           SBRN  ...   150209  15020924  1502092422\n",
              "1499996 2015-02-24    22           SFIA  ...   150209  15020924  1502092422\n",
              "1499997 2015-02-24    22           SFIA  ...   150209  15020924  1502092422\n",
              "1499998 2015-02-24    22           SFIA  ...   150209  15020924  1502092422\n",
              "1499999 2015-02-24    22           SFIA  ...   150209  15020924  1502092422\n",
              "\n",
              "[5 rows x 10 columns]"
            ]
          },
          "metadata": {
            "tags": []
          },
          "execution_count": 16
        }
      ]
    },
    {
      "cell_type": "markdown",
      "metadata": {
        "id": "QQ6DOA5bJBzw",
        "colab_type": "text"
      },
      "source": [
        "Plots"
      ]
    },
    {
      "cell_type": "code",
      "metadata": {
        "id": "cQRMcFt4vckM",
        "colab_type": "code",
        "colab": {}
      },
      "source": [
        "q = df.groupby(['hour','origin station', 'destination station']).agg({'trip count':'sum'}).reset_index()"
      ],
      "execution_count": 17,
      "outputs": []
    },
    {
      "cell_type": "code",
      "metadata": {
        "id": "juGlRlFdwm-7",
        "colab_type": "code",
        "colab": {}
      },
      "source": [
        "q1 = pd.pivot_table(q[q.hour == 1], values='trip count', index=['origin station'],\n",
        "                    columns=['destination station'], fill_value = 0, aggfunc= np.sum)"
      ],
      "execution_count": 18,
      "outputs": []
    },
    {
      "cell_type": "code",
      "metadata": {
        "id": "4v6dZa4j1SOc",
        "colab_type": "code",
        "colab": {}
      },
      "source": [
        "q2 = df.groupby(['origin station', 'destination station']).agg({'trip count':'sum'}).reset_index()"
      ],
      "execution_count": 19,
      "outputs": []
    },
    {
      "cell_type": "code",
      "metadata": {
        "id": "U-k-euY0z6Cj",
        "colab_type": "code",
        "colab": {}
      },
      "source": [
        "q21 = pd.pivot_table(q2, index=['origin station'], columns=['destination station'], values='trip count', fill_value=0, aggfunc=np.sum)"
      ],
      "execution_count": 20,
      "outputs": []
    },
    {
      "cell_type": "code",
      "metadata": {
        "id": "g6fQ4tXxzHZH",
        "colab_type": "code",
        "colab": {
          "base_uri": "https://localhost:8080/",
          "height": 644
        },
        "outputId": "877e3e60-cf1c-4a35-89d5-f1a07a9450b9"
      },
      "source": [
        "plt.figure(figsize=(12,10))\n",
        "sns.heatmap(q21)"
      ],
      "execution_count": 21,
      "outputs": [
        {
          "output_type": "execute_result",
          "data": {
            "text/plain": [
              "<matplotlib.axes._subplots.AxesSubplot at 0x7fd9abd005f8>"
            ]
          },
          "metadata": {
            "tags": []
          },
          "execution_count": 21
        },
        {
          "output_type": "display_data",
          "data": {
            "image/png": "[encoded data removed]",
            "text/plain": [
              "<Figure size 864x720 with 2 Axes>"
            ]
          },
          "metadata": {
            "tags": [],
            "needs_background": "light"
          }
        }
      ]
    },
    {
      "cell_type": "code",
      "metadata": {
        "id": "EQEeOxtZ1bcw",
        "colab_type": "code",
        "colab": {}
      },
      "source": [
        "s_origin = df.groupby(['hour', 'origin station']).agg({'trip count': ['sum']}).reset_index()\n",
        "s_origin.columns = ['hour', 'origin station', 'trip origin']\n",
        "\n",
        "s_dest = df.groupby(['hour', 'destination station']).agg({'trip count': ['sum']}).reset_index()\n",
        "s_dest.columns = ['hour', 'destination station', 'trip dest']"
      ],
      "execution_count": 22,
      "outputs": []
    },
    {
      "cell_type": "code",
      "metadata": {
        "id": "krCkme-xYHSK",
        "colab_type": "code",
        "colab": {}
      },
      "source": [
        "df_s = s_origin.merge(s_dest, how='left', left_on='origin station', right_on='destination station')\n",
        "df_s.drop('hour_y', axis=1, inplace=True)"
      ],
      "execution_count": 23,
      "outputs": []
    },
    {
      "cell_type": "code",
      "metadata": {
        "id": "-aU8lNJB1bN7",
        "colab_type": "code",
        "colab": {
          "base_uri": "https://localhost:8080/",
          "height": 545,
          "referenced_widgets": [
            "44a11173314d42bdb4c8305b61b293e2",
            "dc1ca5c2ad4c48f8bfeb4b84d0076a93",
            "df950f380d044851aa2cb6e79f361762",
            "b0cd206fe55b4fb1b4c6b068f9a7c8f0",
            "15cf95bd56f04e48a2c4e02fa70c312c",
            "185feb1eecb34afb8a6cbc5b2d59424d",
            "032f66062c914ae5baadfc5351362f98"
          ]
        },
        "outputId": "f2fbc60e-a0f8-4b31-f128-61b352bd08d1"
      },
      "source": [
        "\n",
        "@interact(hours=(0,23,1))\n",
        "def s_plot(hours=23):\n",
        "  df_o = s_origin[s_origin.hour == hours]\n",
        "  df_d = s_dest[s_dest.hour == hours]\n",
        "\n",
        "  fig, ax = plt.subplots(figsize=(10,7))\n",
        "  df_o.plot.bar(x='origin station', y='trip origin',  ax=ax, alpha=0.6, color='g')\n",
        "  df_d.plot.bar(x='destination station', y='trip dest',  ax=ax, alpha=0.6)\n",
        "  plt.tight_layout()\n",
        "  "
      ],
      "execution_count": 24,
      "outputs": [
        {
          "output_type": "display_data",
          "data": {
            "application/vnd.jupyter.widget-view+json": {
              "model_id": "44a11173314d42bdb4c8305b61b293e2",
              "version_minor": 0,
              "version_major": 2
            },
            "text/plain": [
              "interactive(children=(IntSlider(value=23, description='hours', max=23), Output()), _dom_classes=('widget-inter…"
            ]
          },
          "metadata": {
            "tags": []
          }
        }
      ]
    },
    {
      "cell_type": "markdown",
      "metadata": {
        "id": "AnbQmNP3Jk-r",
        "colab_type": "text"
      },
      "source": [
        "Lets look at the top 4 stations \\\n",
        "CIVC, EMBR, MONT, POWL"
      ]
    },
    {
      "cell_type": "code",
      "metadata": {
        "id": "O7i4rYokJtef",
        "colab_type": "code",
        "colab": {}
      },
      "source": [
        " lis = list(df_s[(df_s.hour_x == 18) & (df_s['trip dest'] > 100000)]['origin station'].unique())"
      ],
      "execution_count": 25,
      "outputs": []
    },
    {
      "cell_type": "code",
      "metadata": {
        "id": "AXIqSJh0K-E_",
        "colab_type": "code",
        "colab": {}
      },
      "source": [
        "p = df[df['origin station'].isin(lis)]\n",
        "p = p[p['destination station'].isin(lis)]"
      ],
      "execution_count": 26,
      "outputs": []
    },
    {
      "cell_type": "code",
      "metadata": {
        "id": "2tmXmwcyK9ze",
        "colab_type": "code",
        "colab": {}
      },
      "source": [
        "p = p.groupby(['hour', 'origin station', 'destination station']).agg({'trip count':'sum'}).reset_index()"
      ],
      "execution_count": 27,
      "outputs": []
    },
    {
      "cell_type": "code",
      "metadata": {
        "id": "GJKoizVPK9e4",
        "colab_type": "code",
        "colab": {
          "base_uri": "https://localhost:8080/",
          "height": 638,
          "referenced_widgets": [
            "337df701dd8f4cfeb0e14aa061200d23",
            "af72fe8e00ca43e2954ee0caeacb16b7",
            "0462958716e7438ebbf4e00f5ed39366",
            "9ea5cb3beb2a47588b530d147f22503c",
            "761a8e440908488abbb826382aac1dbf",
            "4b2a6694730945c0850a80c7b55a10ad",
            "39e6d1f9605f47bfbcea3aae20af0cd8"
          ]
        },
        "outputId": "10365313-b920-47da-e765-f45b4ce053fb"
      },
      "source": [
        "\n",
        "@interact(hours=(0,23))\n",
        "def heat(hours=23):\n",
        "  p1 = p[p.hour==hours].copy()\n",
        "  p1 = pd.pivot_table(p1, index=['origin station'], columns =['destination station'], values='trip count', fill_value=0, aggfunc=np.sum)\n",
        "  plt.figure(figsize=(12,10))\n",
        "  sns.heatmap(p1)"
      ],
      "execution_count": 28,
      "outputs": [
        {
          "output_type": "display_data",
          "data": {
            "application/vnd.jupyter.widget-view+json": {
              "model_id": "337df701dd8f4cfeb0e14aa061200d23",
              "version_minor": 0,
              "version_major": 2
            },
            "text/plain": [
              "interactive(children=(IntSlider(value=23, description='hours', max=23), Output()), _dom_classes=('widget-inter…"
            ]
          },
          "metadata": {
            "tags": []
          }
        }
      ]
    },
    {
      "cell_type": "code",
      "metadata": {
        "id": "cFhRMsm5JtkO",
        "colab_type": "code",
        "colab": {}
      },
      "source": [
        ""
      ],
      "execution_count": 28,
      "outputs": []
    },
    {
      "cell_type": "code",
      "metadata": {
        "id": "xCf4n-is9pHH",
        "colab_type": "code",
        "colab": {}
      },
      "source": [
        ""
      ],
      "execution_count": 28,
      "outputs": []
    },
    {
      "cell_type": "code",
      "metadata": {
        "id": "VBdzSMq49pT4",
        "colab_type": "code",
        "colab": {}
      },
      "source": [
        "df_b = pd.read_csv('/content/drive/My Drive/bart_ridership/datasets_12522_17125_station_info.csv')"
      ],
      "execution_count": 29,
      "outputs": []
    },
    {
      "cell_type": "code",
      "metadata": {
        "id": "SuInTHlZOb1M",
        "colab_type": "code",
        "colab": {}
      },
      "source": [
        "df_b.columns = list(map(lambda x: x.lower(), df_b.columns))"
      ],
      "execution_count": 30,
      "outputs": []
    },
    {
      "cell_type": "code",
      "metadata": {
        "id": "8iuUIhAP9pd7",
        "colab_type": "code",
        "colab": {
          "base_uri": "https://localhost:8080/",
          "height": 35
        },
        "outputId": "a728e16d-d463-47fb-c409-c486d5aabbf8"
      },
      "source": [
        "df_b.description.iloc[2]"
      ],
      "execution_count": 31,
      "outputs": [
        {
          "output_type": "execute_result",
          "data": {
            "application/vnd.google.colaboratory.intrinsic+json": {
              "type": "string"
            },
            "text/plain": [
              "'1900 Broadway, Oakland CA 94612<br />19th Street Station is in the heart of Uptown Oakland near the historic Paramount Theater on Broadway.'"
            ]
          },
          "metadata": {
            "tags": []
          },
          "execution_count": 31
        }
      ]
    },
    {
      "cell_type": "code",
      "metadata": {
        "id": "tKBkNvWX9poB",
        "colab_type": "code",
        "colab": {}
      },
      "source": [
        "df_b['address'] = df_b['description'].apply(lambda x: x.split('<br />')[0])\n",
        "df_b['city'] = df_b['address'].apply(lambda x: x.split(',')[1].split('CA')[0].strip())"
      ],
      "execution_count": 32,
      "outputs": []
    },
    {
      "cell_type": "code",
      "metadata": {
        "id": "jYJY-lt89qQw",
        "colab_type": "code",
        "colab": {}
      },
      "source": [
        "df_b['city'].mask(df_b['city'] == 'Level 3', 'SFO', inplace=True)"
      ],
      "execution_count": 33,
      "outputs": []
    },
    {
      "cell_type": "code",
      "metadata": {
        "id": "Fj7QEr4j9qKi",
        "colab_type": "code",
        "colab": {
          "base_uri": "https://localhost:8080/",
          "height": 204
        },
        "outputId": "fdda764a-0ade-49a5-fb7d-17c2740ff62c"
      },
      "source": [
        "df_b.head()"
      ],
      "execution_count": 34,
      "outputs": [
        {
          "output_type": "execute_result",
          "data": {
            "text/html": [
              "<div>\n",
              "<style scoped>\n",
              "    .dataframe tbody tr th:only-of-type {\n",
              "        vertical-align: middle;\n",
              "    }\n",
              "\n",
              "    .dataframe tbody tr th {\n",
              "        vertical-align: top;\n",
              "    }\n",
              "\n",
              "    .dataframe thead th {\n",
              "        text-align: right;\n",
              "    }\n",
              "</style>\n",
              "<table border=\"1\" class=\"dataframe\">\n",
              "  <thead>\n",
              "    <tr style=\"text-align: right;\">\n",
              "      <th></th>\n",
              "      <th>abbreviation</th>\n",
              "      <th>description</th>\n",
              "      <th>location</th>\n",
              "      <th>name</th>\n",
              "      <th>address</th>\n",
              "      <th>city</th>\n",
              "    </tr>\n",
              "  </thead>\n",
              "  <tbody>\n",
              "    <tr>\n",
              "      <th>0</th>\n",
              "      <td>12TH</td>\n",
              "      <td>1245 Broadway, Oakland CA 94612&lt;br /&gt;12th St. ...</td>\n",
              "      <td>-122.271450,37.803768,0</td>\n",
              "      <td>12th St. Oakland City Center (12TH)</td>\n",
              "      <td>1245 Broadway, Oakland CA 94612</td>\n",
              "      <td>Oakland</td>\n",
              "    </tr>\n",
              "    <tr>\n",
              "      <th>1</th>\n",
              "      <td>16TH</td>\n",
              "      <td>2000 Mission Street, San Francisco CA 94110&lt;br...</td>\n",
              "      <td>-122.419694,37.765062,0</td>\n",
              "      <td>16th St. Mission (16TH)</td>\n",
              "      <td>2000 Mission Street, San Francisco CA 94110</td>\n",
              "      <td>San Francisco</td>\n",
              "    </tr>\n",
              "    <tr>\n",
              "      <th>2</th>\n",
              "      <td>19TH</td>\n",
              "      <td>1900 Broadway, Oakland CA 94612&lt;br /&gt;19th Stre...</td>\n",
              "      <td>-122.268602,37.808350,0</td>\n",
              "      <td>19th St. Oakland (19TH)</td>\n",
              "      <td>1900 Broadway, Oakland CA 94612</td>\n",
              "      <td>Oakland</td>\n",
              "    </tr>\n",
              "    <tr>\n",
              "      <th>3</th>\n",
              "      <td>24TH</td>\n",
              "      <td>2800 Mission Street, San Francisco CA 94110&lt;br...</td>\n",
              "      <td>-122.418143,37.752470,0</td>\n",
              "      <td>24th St. Mission (24TH)</td>\n",
              "      <td>2800 Mission Street, San Francisco CA 94110</td>\n",
              "      <td>San Francisco</td>\n",
              "    </tr>\n",
              "    <tr>\n",
              "      <th>4</th>\n",
              "      <td>ASHB</td>\n",
              "      <td>3100 Adeline Street, Berkeley CA 94703&lt;br /&gt;As...</td>\n",
              "      <td>-122.270062,37.852803,0</td>\n",
              "      <td>Ashby (ASHB)</td>\n",
              "      <td>3100 Adeline Street, Berkeley CA 94703</td>\n",
              "      <td>Berkeley</td>\n",
              "    </tr>\n",
              "  </tbody>\n",
              "</table>\n",
              "</div>"
            ],
            "text/plain": [
              "  abbreviation  ...           city\n",
              "0         12TH  ...        Oakland\n",
              "1         16TH  ...  San Francisco\n",
              "2         19TH  ...        Oakland\n",
              "3         24TH  ...  San Francisco\n",
              "4         ASHB  ...       Berkeley\n",
              "\n",
              "[5 rows x 6 columns]"
            ]
          },
          "metadata": {
            "tags": []
          },
          "execution_count": 34
        }
      ]
    },
    {
      "cell_type": "code",
      "metadata": {
        "id": "GkCoTZ-k9qHS",
        "colab_type": "code",
        "colab": {}
      },
      "source": [
        "df_b['x'] = df_b.location.apply(lambda x: x.split(',')[0])\n",
        "df_b['y'] = df_b.location.apply(lambda x: x.split(',')[1])\n",
        "\n",
        "df_loc = df_b[['abbreviation', 'x', 'y']]"
      ],
      "execution_count": 35,
      "outputs": []
    },
    {
      "cell_type": "code",
      "metadata": {
        "id": "3KggN-0t9qEX",
        "colab_type": "code",
        "colab": {}
      },
      "source": [
        "df_bcity = df_b[['city', 'abbreviation']].set_index('abbreviation')\n"
      ],
      "execution_count": 36,
      "outputs": []
    },
    {
      "cell_type": "code",
      "metadata": {
        "id": "OGpsge529p4A",
        "colab_type": "code",
        "colab": {}
      },
      "source": [
        "df['origin city'] = df['origin station'].map(df_bcity['city'])\n",
        "df['dest city'] = df['destination station'].map(df_bcity['city'])"
      ],
      "execution_count": 37,
      "outputs": []
    },
    {
      "cell_type": "code",
      "metadata": {
        "id": "fgrl69589ph-",
        "colab_type": "code",
        "colab": {
          "base_uri": "https://localhost:8080/",
          "height": 204
        },
        "outputId": "18f1def5-61cf-4755-b057-4f6941b102fe"
      },
      "source": [
        "df_b.head()"
      ],
      "execution_count": 38,
      "outputs": [
        {
          "output_type": "execute_result",
          "data": {
            "text/html": [
              "<div>\n",
              "<style scoped>\n",
              "    .dataframe tbody tr th:only-of-type {\n",
              "        vertical-align: middle;\n",
              "    }\n",
              "\n",
              "    .dataframe tbody tr th {\n",
              "        vertical-align: top;\n",
              "    }\n",
              "\n",
              "    .dataframe thead th {\n",
              "        text-align: right;\n",
              "    }\n",
              "</style>\n",
              "<table border=\"1\" class=\"dataframe\">\n",
              "  <thead>\n",
              "    <tr style=\"text-align: right;\">\n",
              "      <th></th>\n",
              "      <th>abbreviation</th>\n",
              "      <th>description</th>\n",
              "      <th>location</th>\n",
              "      <th>name</th>\n",
              "      <th>address</th>\n",
              "      <th>city</th>\n",
              "      <th>x</th>\n",
              "      <th>y</th>\n",
              "    </tr>\n",
              "  </thead>\n",
              "  <tbody>\n",
              "    <tr>\n",
              "      <th>0</th>\n",
              "      <td>12TH</td>\n",
              "      <td>1245 Broadway, Oakland CA 94612&lt;br /&gt;12th St. ...</td>\n",
              "      <td>-122.271450,37.803768,0</td>\n",
              "      <td>12th St. Oakland City Center (12TH)</td>\n",
              "      <td>1245 Broadway, Oakland CA 94612</td>\n",
              "      <td>Oakland</td>\n",
              "      <td>-122.271450</td>\n",
              "      <td>37.803768</td>\n",
              "    </tr>\n",
              "    <tr>\n",
              "      <th>1</th>\n",
              "      <td>16TH</td>\n",
              "      <td>2000 Mission Street, San Francisco CA 94110&lt;br...</td>\n",
              "      <td>-122.419694,37.765062,0</td>\n",
              "      <td>16th St. Mission (16TH)</td>\n",
              "      <td>2000 Mission Street, San Francisco CA 94110</td>\n",
              "      <td>San Francisco</td>\n",
              "      <td>-122.419694</td>\n",
              "      <td>37.765062</td>\n",
              "    </tr>\n",
              "    <tr>\n",
              "      <th>2</th>\n",
              "      <td>19TH</td>\n",
              "      <td>1900 Broadway, Oakland CA 94612&lt;br /&gt;19th Stre...</td>\n",
              "      <td>-122.268602,37.808350,0</td>\n",
              "      <td>19th St. Oakland (19TH)</td>\n",
              "      <td>1900 Broadway, Oakland CA 94612</td>\n",
              "      <td>Oakland</td>\n",
              "      <td>-122.268602</td>\n",
              "      <td>37.808350</td>\n",
              "    </tr>\n",
              "    <tr>\n",
              "      <th>3</th>\n",
              "      <td>24TH</td>\n",
              "      <td>2800 Mission Street, San Francisco CA 94110&lt;br...</td>\n",
              "      <td>-122.418143,37.752470,0</td>\n",
              "      <td>24th St. Mission (24TH)</td>\n",
              "      <td>2800 Mission Street, San Francisco CA 94110</td>\n",
              "      <td>San Francisco</td>\n",
              "      <td>-122.418143</td>\n",
              "      <td>37.752470</td>\n",
              "    </tr>\n",
              "    <tr>\n",
              "      <th>4</th>\n",
              "      <td>ASHB</td>\n",
              "      <td>3100 Adeline Street, Berkeley CA 94703&lt;br /&gt;As...</td>\n",
              "      <td>-122.270062,37.852803,0</td>\n",
              "      <td>Ashby (ASHB)</td>\n",
              "      <td>3100 Adeline Street, Berkeley CA 94703</td>\n",
              "      <td>Berkeley</td>\n",
              "      <td>-122.270062</td>\n",
              "      <td>37.852803</td>\n",
              "    </tr>\n",
              "  </tbody>\n",
              "</table>\n",
              "</div>"
            ],
            "text/plain": [
              "  abbreviation  ...          y\n",
              "0         12TH  ...  37.803768\n",
              "1         16TH  ...  37.765062\n",
              "2         19TH  ...  37.808350\n",
              "3         24TH  ...  37.752470\n",
              "4         ASHB  ...  37.852803\n",
              "\n",
              "[5 rows x 8 columns]"
            ]
          },
          "metadata": {
            "tags": []
          },
          "execution_count": 38
        }
      ]
    },
    {
      "cell_type": "code",
      "metadata": {
        "id": "wqin2NTp9paP",
        "colab_type": "code",
        "colab": {}
      },
      "source": [
        "dfs = pd.DataFrame(list(itertools.combinations(df_b.abbreviation,2)), columns=['origin station', 'dest station'] )"
      ],
      "execution_count": 39,
      "outputs": []
    },
    {
      "cell_type": "code",
      "metadata": {
        "id": "QvjHk9ky9pXe",
        "colab_type": "code",
        "colab": {}
      },
      "source": [
        "def xy_map(df):\n",
        "  dfs = df.copy()\n",
        "  for n in ['origin station', 'destination station']:\n",
        "    for z in ['x', 'y']:\n",
        "      dfs[n+' ' +z] = dfs[n].map(df_b.set_index('abbreviation')[z]).astype('float64')\n",
        "  return dfs"
      ],
      "execution_count": 40,
      "outputs": []
    },
    {
      "cell_type": "code",
      "metadata": {
        "id": "g1OiGTxpjbFP",
        "colab_type": "code",
        "colab": {}
      },
      "source": [
        "df = xy_map(df)"
      ],
      "execution_count": 41,
      "outputs": []
    },
    {
      "cell_type": "code",
      "metadata": {
        "id": "HqEVnSysxXsr",
        "colab_type": "code",
        "colab": {
          "base_uri": "https://localhost:8080/",
          "height": 204
        },
        "outputId": "b1985b59-54a3-43a7-902c-b0d57f188acf"
      },
      "source": [
        "df.head()"
      ],
      "execution_count": 42,
      "outputs": [
        {
          "output_type": "execute_result",
          "data": {
            "text/html": [
              "<div>\n",
              "<style scoped>\n",
              "    .dataframe tbody tr th:only-of-type {\n",
              "        vertical-align: middle;\n",
              "    }\n",
              "\n",
              "    .dataframe tbody tr th {\n",
              "        vertical-align: top;\n",
              "    }\n",
              "\n",
              "    .dataframe thead th {\n",
              "        text-align: right;\n",
              "    }\n",
              "</style>\n",
              "<table border=\"1\" class=\"dataframe\">\n",
              "  <thead>\n",
              "    <tr style=\"text-align: right;\">\n",
              "      <th></th>\n",
              "      <th>date</th>\n",
              "      <th>hour</th>\n",
              "      <th>origin station</th>\n",
              "      <th>destination station</th>\n",
              "      <th>trip count</th>\n",
              "      <th>year</th>\n",
              "      <th>num_month</th>\n",
              "      <th>num_week</th>\n",
              "      <th>num_day</th>\n",
              "      <th>num_hour</th>\n",
              "      <th>origin city</th>\n",
              "      <th>dest city</th>\n",
              "      <th>origin station x</th>\n",
              "      <th>origin station y</th>\n",
              "      <th>destination station x</th>\n",
              "      <th>destination station y</th>\n",
              "    </tr>\n",
              "  </thead>\n",
              "  <tbody>\n",
              "    <tr>\n",
              "      <th>0</th>\n",
              "      <td>2015-01-01</td>\n",
              "      <td>0</td>\n",
              "      <td>12TH</td>\n",
              "      <td>12TH</td>\n",
              "      <td>1</td>\n",
              "      <td>15</td>\n",
              "      <td>1501</td>\n",
              "      <td>150101</td>\n",
              "      <td>15010101</td>\n",
              "      <td>1501010100</td>\n",
              "      <td>Oakland</td>\n",
              "      <td>Oakland</td>\n",
              "      <td>-122.27145</td>\n",
              "      <td>37.803768</td>\n",
              "      <td>-122.271450</td>\n",
              "      <td>37.803768</td>\n",
              "    </tr>\n",
              "    <tr>\n",
              "      <th>1</th>\n",
              "      <td>2015-01-01</td>\n",
              "      <td>0</td>\n",
              "      <td>12TH</td>\n",
              "      <td>16TH</td>\n",
              "      <td>1</td>\n",
              "      <td>15</td>\n",
              "      <td>1501</td>\n",
              "      <td>150101</td>\n",
              "      <td>15010101</td>\n",
              "      <td>1501010100</td>\n",
              "      <td>Oakland</td>\n",
              "      <td>San Francisco</td>\n",
              "      <td>-122.27145</td>\n",
              "      <td>37.803768</td>\n",
              "      <td>-122.419694</td>\n",
              "      <td>37.765062</td>\n",
              "    </tr>\n",
              "    <tr>\n",
              "      <th>2</th>\n",
              "      <td>2015-01-01</td>\n",
              "      <td>0</td>\n",
              "      <td>12TH</td>\n",
              "      <td>24TH</td>\n",
              "      <td>3</td>\n",
              "      <td>15</td>\n",
              "      <td>1501</td>\n",
              "      <td>150101</td>\n",
              "      <td>15010101</td>\n",
              "      <td>1501010100</td>\n",
              "      <td>Oakland</td>\n",
              "      <td>San Francisco</td>\n",
              "      <td>-122.27145</td>\n",
              "      <td>37.803768</td>\n",
              "      <td>-122.418143</td>\n",
              "      <td>37.752470</td>\n",
              "    </tr>\n",
              "    <tr>\n",
              "      <th>3</th>\n",
              "      <td>2015-01-01</td>\n",
              "      <td>0</td>\n",
              "      <td>12TH</td>\n",
              "      <td>ASHB</td>\n",
              "      <td>6</td>\n",
              "      <td>15</td>\n",
              "      <td>1501</td>\n",
              "      <td>150101</td>\n",
              "      <td>15010101</td>\n",
              "      <td>1501010100</td>\n",
              "      <td>Oakland</td>\n",
              "      <td>Berkeley</td>\n",
              "      <td>-122.27145</td>\n",
              "      <td>37.803768</td>\n",
              "      <td>-122.270062</td>\n",
              "      <td>37.852803</td>\n",
              "    </tr>\n",
              "    <tr>\n",
              "      <th>4</th>\n",
              "      <td>2015-01-01</td>\n",
              "      <td>0</td>\n",
              "      <td>12TH</td>\n",
              "      <td>BALB</td>\n",
              "      <td>3</td>\n",
              "      <td>15</td>\n",
              "      <td>1501</td>\n",
              "      <td>150101</td>\n",
              "      <td>15010101</td>\n",
              "      <td>1501010100</td>\n",
              "      <td>Oakland</td>\n",
              "      <td>San Francisco</td>\n",
              "      <td>-122.27145</td>\n",
              "      <td>37.803768</td>\n",
              "      <td>-122.447506</td>\n",
              "      <td>37.721585</td>\n",
              "    </tr>\n",
              "  </tbody>\n",
              "</table>\n",
              "</div>"
            ],
            "text/plain": [
              "        date  hour  ... destination station x destination station y\n",
              "0 2015-01-01     0  ...           -122.271450             37.803768\n",
              "1 2015-01-01     0  ...           -122.419694             37.765062\n",
              "2 2015-01-01     0  ...           -122.418143             37.752470\n",
              "3 2015-01-01     0  ...           -122.270062             37.852803\n",
              "4 2015-01-01     0  ...           -122.447506             37.721585\n",
              "\n",
              "[5 rows x 16 columns]"
            ]
          },
          "metadata": {
            "tags": []
          },
          "execution_count": 42
        }
      ]
    },
    {
      "cell_type": "code",
      "metadata": {
        "id": "4DC1dX909o_O",
        "colab_type": "code",
        "colab": {}
      },
      "source": [
        "df['distance']= np.linalg.norm(df[[\"origin station y\", \"origin station x\"]].values - df[[\"destination station y\", \"destination station x\"]].values, axis=1)"
      ],
      "execution_count": 43,
      "outputs": []
    },
    {
      "cell_type": "code",
      "metadata": {
        "id": "sr2EQSM8xq5m",
        "colab_type": "code",
        "colab": {}
      },
      "source": [
        "df.drop(df.columns[-5:-1],axis=1, inplace=True)"
      ],
      "execution_count": 44,
      "outputs": []
    },
    {
      "cell_type": "code",
      "metadata": {
        "id": "FClrEf0z1bEU",
        "colab_type": "code",
        "colab": {
          "base_uri": "https://localhost:8080/",
          "height": 282
        },
        "outputId": "07aa7a01-26f9-4dcc-c57b-dba1302ad03a"
      },
      "source": [
        "df.distance.hist(bins=10)"
      ],
      "execution_count": 45,
      "outputs": [
        {
          "output_type": "execute_result",
          "data": {
            "text/plain": [
              "<matplotlib.axes._subplots.AxesSubplot at 0x7fd9a7737710>"
            ]
          },
          "metadata": {
            "tags": []
          },
          "execution_count": 45
        },
        {
          "output_type": "display_data",
          "data": {
            "image/png": "[encoded data removed]",
            "text/plain": [
              "<Figure size 432x288 with 1 Axes>"
            ]
          },
          "metadata": {
            "tags": [],
            "needs_background": "light"
          }
        }
      ]
    },
    {
      "cell_type": "code",
      "metadata": {
        "id": "zG6YnGr31avl",
        "colab_type": "code",
        "colab": {}
      },
      "source": [
        "df['distance'] = pd.cut(df.distance, 10)"
      ],
      "execution_count": 46,
      "outputs": []
    },
    {
      "cell_type": "code",
      "metadata": {
        "id": "wes_vaLao6ME",
        "colab_type": "code",
        "colab": {
          "base_uri": "https://localhost:8080/",
          "height": 204
        },
        "outputId": "59f252c9-3086-4c21-f524-ee97268cbf66"
      },
      "source": [
        "df.head()"
      ],
      "execution_count": 47,
      "outputs": [
        {
          "output_type": "execute_result",
          "data": {
            "text/html": [
              "<div>\n",
              "<style scoped>\n",
              "    .dataframe tbody tr th:only-of-type {\n",
              "        vertical-align: middle;\n",
              "    }\n",
              "\n",
              "    .dataframe tbody tr th {\n",
              "        vertical-align: top;\n",
              "    }\n",
              "\n",
              "    .dataframe thead th {\n",
              "        text-align: right;\n",
              "    }\n",
              "</style>\n",
              "<table border=\"1\" class=\"dataframe\">\n",
              "  <thead>\n",
              "    <tr style=\"text-align: right;\">\n",
              "      <th></th>\n",
              "      <th>date</th>\n",
              "      <th>hour</th>\n",
              "      <th>origin station</th>\n",
              "      <th>destination station</th>\n",
              "      <th>trip count</th>\n",
              "      <th>year</th>\n",
              "      <th>num_month</th>\n",
              "      <th>num_week</th>\n",
              "      <th>num_day</th>\n",
              "      <th>num_hour</th>\n",
              "      <th>origin city</th>\n",
              "      <th>dest city</th>\n",
              "      <th>distance</th>\n",
              "    </tr>\n",
              "  </thead>\n",
              "  <tbody>\n",
              "    <tr>\n",
              "      <th>0</th>\n",
              "      <td>2015-01-01</td>\n",
              "      <td>0</td>\n",
              "      <td>12TH</td>\n",
              "      <td>12TH</td>\n",
              "      <td>1</td>\n",
              "      <td>15</td>\n",
              "      <td>1501</td>\n",
              "      <td>150101</td>\n",
              "      <td>15010101</td>\n",
              "      <td>1501010100</td>\n",
              "      <td>Oakland</td>\n",
              "      <td>Oakland</td>\n",
              "      <td>(-0.000619, 0.0619]</td>\n",
              "    </tr>\n",
              "    <tr>\n",
              "      <th>1</th>\n",
              "      <td>2015-01-01</td>\n",
              "      <td>0</td>\n",
              "      <td>12TH</td>\n",
              "      <td>16TH</td>\n",
              "      <td>1</td>\n",
              "      <td>15</td>\n",
              "      <td>1501</td>\n",
              "      <td>150101</td>\n",
              "      <td>15010101</td>\n",
              "      <td>1501010100</td>\n",
              "      <td>Oakland</td>\n",
              "      <td>San Francisco</td>\n",
              "      <td>(0.124, 0.186]</td>\n",
              "    </tr>\n",
              "    <tr>\n",
              "      <th>2</th>\n",
              "      <td>2015-01-01</td>\n",
              "      <td>0</td>\n",
              "      <td>12TH</td>\n",
              "      <td>24TH</td>\n",
              "      <td>3</td>\n",
              "      <td>15</td>\n",
              "      <td>1501</td>\n",
              "      <td>150101</td>\n",
              "      <td>15010101</td>\n",
              "      <td>1501010100</td>\n",
              "      <td>Oakland</td>\n",
              "      <td>San Francisco</td>\n",
              "      <td>(0.124, 0.186]</td>\n",
              "    </tr>\n",
              "    <tr>\n",
              "      <th>3</th>\n",
              "      <td>2015-01-01</td>\n",
              "      <td>0</td>\n",
              "      <td>12TH</td>\n",
              "      <td>ASHB</td>\n",
              "      <td>6</td>\n",
              "      <td>15</td>\n",
              "      <td>1501</td>\n",
              "      <td>150101</td>\n",
              "      <td>15010101</td>\n",
              "      <td>1501010100</td>\n",
              "      <td>Oakland</td>\n",
              "      <td>Berkeley</td>\n",
              "      <td>(-0.000619, 0.0619]</td>\n",
              "    </tr>\n",
              "    <tr>\n",
              "      <th>4</th>\n",
              "      <td>2015-01-01</td>\n",
              "      <td>0</td>\n",
              "      <td>12TH</td>\n",
              "      <td>BALB</td>\n",
              "      <td>3</td>\n",
              "      <td>15</td>\n",
              "      <td>1501</td>\n",
              "      <td>150101</td>\n",
              "      <td>15010101</td>\n",
              "      <td>1501010100</td>\n",
              "      <td>Oakland</td>\n",
              "      <td>San Francisco</td>\n",
              "      <td>(0.186, 0.248]</td>\n",
              "    </tr>\n",
              "  </tbody>\n",
              "</table>\n",
              "</div>"
            ],
            "text/plain": [
              "        date  hour  ...      dest city             distance\n",
              "0 2015-01-01     0  ...        Oakland  (-0.000619, 0.0619]\n",
              "1 2015-01-01     0  ...  San Francisco       (0.124, 0.186]\n",
              "2 2015-01-01     0  ...  San Francisco       (0.124, 0.186]\n",
              "3 2015-01-01     0  ...       Berkeley  (-0.000619, 0.0619]\n",
              "4 2015-01-01     0  ...  San Francisco       (0.186, 0.248]\n",
              "\n",
              "[5 rows x 13 columns]"
            ]
          },
          "metadata": {
            "tags": []
          },
          "execution_count": 47
        }
      ]
    },
    {
      "cell_type": "code",
      "metadata": {
        "id": "X0YyMKT-uxcI",
        "colab_type": "code",
        "colab": {}
      },
      "source": [
        "from sklearn.preprocessing import LabelEncoder"
      ],
      "execution_count": 48,
      "outputs": []
    },
    {
      "cell_type": "code",
      "metadata": {
        "id": "SBYobAi1uxqB",
        "colab_type": "code",
        "colab": {}
      },
      "source": [
        "le = LabelEncoder()\n",
        "n = df.columns[-3:]\n",
        "df1 = df.copy()\n",
        "for name in n:\n",
        "  df1[name] = le.fit_transform(df1[name])"
      ],
      "execution_count": 49,
      "outputs": []
    },
    {
      "cell_type": "code",
      "metadata": {
        "id": "NozjLh2oux6M",
        "colab_type": "code",
        "colab": {}
      },
      "source": [
        "del df"
      ],
      "execution_count": 50,
      "outputs": []
    },
    {
      "cell_type": "code",
      "metadata": {
        "id": "L4EJ9Lkiuxw5",
        "colab_type": "code",
        "colab": {}
      },
      "source": [
        "def align(df):\n",
        "  for n in ['num_month', 'num_week', 'num_hour', 'num_day']:\n",
        "    ls = list(df1[n].unique())\n",
        "    ls.sort()\n",
        "    ls1 = {ls[i]: i for i in range(len(ls))}\n",
        "    df[n] = df[n].map(ls1)\n",
        "  return df"
      ],
      "execution_count": 51,
      "outputs": []
    },
    {
      "cell_type": "code",
      "metadata": {
        "id": "H1AJBdpMN6Yy",
        "colab_type": "code",
        "colab": {}
      },
      "source": [
        "df1 = align(df1)"
      ],
      "execution_count": 52,
      "outputs": []
    },
    {
      "cell_type": "code",
      "metadata": {
        "id": "WKdDJmYjN6V6",
        "colab_type": "code",
        "colab": {
          "base_uri": "https://localhost:8080/",
          "height": 204
        },
        "outputId": "9794e1d8-3abe-409b-dbe6-7b4ffc1c9760"
      },
      "source": [
        "df1.tail()"
      ],
      "execution_count": 53,
      "outputs": [
        {
          "output_type": "execute_result",
          "data": {
            "text/html": [
              "<div>\n",
              "<style scoped>\n",
              "    .dataframe tbody tr th:only-of-type {\n",
              "        vertical-align: middle;\n",
              "    }\n",
              "\n",
              "    .dataframe tbody tr th {\n",
              "        vertical-align: top;\n",
              "    }\n",
              "\n",
              "    .dataframe thead th {\n",
              "        text-align: right;\n",
              "    }\n",
              "</style>\n",
              "<table border=\"1\" class=\"dataframe\">\n",
              "  <thead>\n",
              "    <tr style=\"text-align: right;\">\n",
              "      <th></th>\n",
              "      <th>date</th>\n",
              "      <th>hour</th>\n",
              "      <th>origin station</th>\n",
              "      <th>destination station</th>\n",
              "      <th>trip count</th>\n",
              "      <th>year</th>\n",
              "      <th>num_month</th>\n",
              "      <th>num_week</th>\n",
              "      <th>num_day</th>\n",
              "      <th>num_hour</th>\n",
              "      <th>origin city</th>\n",
              "      <th>dest city</th>\n",
              "      <th>distance</th>\n",
              "    </tr>\n",
              "  </thead>\n",
              "  <tbody>\n",
              "    <tr>\n",
              "      <th>1499995</th>\n",
              "      <td>2015-02-24</td>\n",
              "      <td>22</td>\n",
              "      <td>SBRN</td>\n",
              "      <td>UCTY</td>\n",
              "      <td>1</td>\n",
              "      <td>15</td>\n",
              "      <td>1</td>\n",
              "      <td>9</td>\n",
              "      <td>54</td>\n",
              "      <td>1227</td>\n",
              "      <td>17</td>\n",
              "      <td>21</td>\n",
              "      <td>6</td>\n",
              "    </tr>\n",
              "    <tr>\n",
              "      <th>1499996</th>\n",
              "      <td>2015-02-24</td>\n",
              "      <td>22</td>\n",
              "      <td>SFIA</td>\n",
              "      <td>12TH</td>\n",
              "      <td>8</td>\n",
              "      <td>15</td>\n",
              "      <td>1</td>\n",
              "      <td>9</td>\n",
              "      <td>54</td>\n",
              "      <td>1227</td>\n",
              "      <td>16</td>\n",
              "      <td>11</td>\n",
              "      <td>3</td>\n",
              "    </tr>\n",
              "    <tr>\n",
              "      <th>1499997</th>\n",
              "      <td>2015-02-24</td>\n",
              "      <td>22</td>\n",
              "      <td>SFIA</td>\n",
              "      <td>16TH</td>\n",
              "      <td>9</td>\n",
              "      <td>15</td>\n",
              "      <td>1</td>\n",
              "      <td>9</td>\n",
              "      <td>54</td>\n",
              "      <td>1227</td>\n",
              "      <td>16</td>\n",
              "      <td>18</td>\n",
              "      <td>2</td>\n",
              "    </tr>\n",
              "    <tr>\n",
              "      <th>1499998</th>\n",
              "      <td>2015-02-24</td>\n",
              "      <td>22</td>\n",
              "      <td>SFIA</td>\n",
              "      <td>19TH</td>\n",
              "      <td>1</td>\n",
              "      <td>15</td>\n",
              "      <td>1</td>\n",
              "      <td>9</td>\n",
              "      <td>54</td>\n",
              "      <td>1227</td>\n",
              "      <td>16</td>\n",
              "      <td>11</td>\n",
              "      <td>3</td>\n",
              "    </tr>\n",
              "    <tr>\n",
              "      <th>1499999</th>\n",
              "      <td>2015-02-24</td>\n",
              "      <td>22</td>\n",
              "      <td>SFIA</td>\n",
              "      <td>24TH</td>\n",
              "      <td>11</td>\n",
              "      <td>15</td>\n",
              "      <td>1</td>\n",
              "      <td>9</td>\n",
              "      <td>54</td>\n",
              "      <td>1227</td>\n",
              "      <td>16</td>\n",
              "      <td>18</td>\n",
              "      <td>2</td>\n",
              "    </tr>\n",
              "  </tbody>\n",
              "</table>\n",
              "</div>"
            ],
            "text/plain": [
              "              date  hour origin station  ... origin city  dest city  distance\n",
              "1499995 2015-02-24    22           SBRN  ...          17         21         6\n",
              "1499996 2015-02-24    22           SFIA  ...          16         11         3\n",
              "1499997 2015-02-24    22           SFIA  ...          16         18         2\n",
              "1499998 2015-02-24    22           SFIA  ...          16         11         3\n",
              "1499999 2015-02-24    22           SFIA  ...          16         18         2\n",
              "\n",
              "[5 rows x 13 columns]"
            ]
          },
          "metadata": {
            "tags": []
          },
          "execution_count": 53
        }
      ]
    },
    {
      "cell_type": "code",
      "metadata": {
        "id": "bTALRttnN6MA",
        "colab_type": "code",
        "colab": {}
      },
      "source": [
        "def labe(df):\n",
        "  for n in ['origin station', 'destination station']:\n",
        "    df[n] = le.fit_transform(df[n])\n",
        "  return df"
      ],
      "execution_count": 54,
      "outputs": []
    },
    {
      "cell_type": "code",
      "metadata": {
        "id": "ZSuLSZ2zN6HX",
        "colab_type": "code",
        "colab": {}
      },
      "source": [
        "df1 = labe(df1)"
      ],
      "execution_count": 55,
      "outputs": []
    },
    {
      "cell_type": "code",
      "metadata": {
        "id": "-Cvfdz7BN6Ai",
        "colab_type": "code",
        "colab": {}
      },
      "source": [
        "df1.drop(['date', 'year'],axis=1, inplace=True)"
      ],
      "execution_count": 56,
      "outputs": []
    },
    {
      "cell_type": "code",
      "metadata": {
        "id": "y5bjoxyAN5nc",
        "colab_type": "code",
        "colab": {}
      },
      "source": [
        ""
      ],
      "execution_count": 56,
      "outputs": []
    },
    {
      "cell_type": "markdown",
      "metadata": {
        "id": "OAMhs48tVRgV",
        "colab_type": "text"
      },
      "source": [
        "Creating lag features \\\n",
        "again we are predicting next hour trip counts\\\n",
        "the matching IDs are origin, destination, and num_day \\\n",
        "prediction trip count for 2100 combinations"
      ]
    },
    {
      "cell_type": "code",
      "metadata": {
        "id": "fPf6Qp4QVVJh",
        "colab_type": "code",
        "colab": {
          "base_uri": "https://localhost:8080/",
          "height": 204
        },
        "outputId": "4933e7f3-b0c8-44dc-e06a-06437bac63c2"
      },
      "source": [
        "df1.head()"
      ],
      "execution_count": 57,
      "outputs": [
        {
          "output_type": "execute_result",
          "data": {
            "text/html": [
              "<div>\n",
              "<style scoped>\n",
              "    .dataframe tbody tr th:only-of-type {\n",
              "        vertical-align: middle;\n",
              "    }\n",
              "\n",
              "    .dataframe tbody tr th {\n",
              "        vertical-align: top;\n",
              "    }\n",
              "\n",
              "    .dataframe thead th {\n",
              "        text-align: right;\n",
              "    }\n",
              "</style>\n",
              "<table border=\"1\" class=\"dataframe\">\n",
              "  <thead>\n",
              "    <tr style=\"text-align: right;\">\n",
              "      <th></th>\n",
              "      <th>hour</th>\n",
              "      <th>origin station</th>\n",
              "      <th>destination station</th>\n",
              "      <th>trip count</th>\n",
              "      <th>num_month</th>\n",
              "      <th>num_week</th>\n",
              "      <th>num_day</th>\n",
              "      <th>num_hour</th>\n",
              "      <th>origin city</th>\n",
              "      <th>dest city</th>\n",
              "      <th>distance</th>\n",
              "    </tr>\n",
              "  </thead>\n",
              "  <tbody>\n",
              "    <tr>\n",
              "      <th>0</th>\n",
              "      <td>0</td>\n",
              "      <td>0</td>\n",
              "      <td>0</td>\n",
              "      <td>1</td>\n",
              "      <td>0</td>\n",
              "      <td>0</td>\n",
              "      <td>0</td>\n",
              "      <td>0</td>\n",
              "      <td>11</td>\n",
              "      <td>11</td>\n",
              "      <td>0</td>\n",
              "    </tr>\n",
              "    <tr>\n",
              "      <th>1</th>\n",
              "      <td>0</td>\n",
              "      <td>0</td>\n",
              "      <td>1</td>\n",
              "      <td>1</td>\n",
              "      <td>0</td>\n",
              "      <td>0</td>\n",
              "      <td>0</td>\n",
              "      <td>0</td>\n",
              "      <td>11</td>\n",
              "      <td>18</td>\n",
              "      <td>2</td>\n",
              "    </tr>\n",
              "    <tr>\n",
              "      <th>2</th>\n",
              "      <td>0</td>\n",
              "      <td>0</td>\n",
              "      <td>3</td>\n",
              "      <td>3</td>\n",
              "      <td>0</td>\n",
              "      <td>0</td>\n",
              "      <td>0</td>\n",
              "      <td>0</td>\n",
              "      <td>11</td>\n",
              "      <td>18</td>\n",
              "      <td>2</td>\n",
              "    </tr>\n",
              "    <tr>\n",
              "      <th>3</th>\n",
              "      <td>0</td>\n",
              "      <td>0</td>\n",
              "      <td>4</td>\n",
              "      <td>6</td>\n",
              "      <td>0</td>\n",
              "      <td>0</td>\n",
              "      <td>0</td>\n",
              "      <td>0</td>\n",
              "      <td>11</td>\n",
              "      <td>0</td>\n",
              "      <td>0</td>\n",
              "    </tr>\n",
              "    <tr>\n",
              "      <th>4</th>\n",
              "      <td>0</td>\n",
              "      <td>0</td>\n",
              "      <td>5</td>\n",
              "      <td>3</td>\n",
              "      <td>0</td>\n",
              "      <td>0</td>\n",
              "      <td>0</td>\n",
              "      <td>0</td>\n",
              "      <td>11</td>\n",
              "      <td>18</td>\n",
              "      <td>3</td>\n",
              "    </tr>\n",
              "  </tbody>\n",
              "</table>\n",
              "</div>"
            ],
            "text/plain": [
              "   hour  origin station  destination station  ...  origin city  dest city  distance\n",
              "0     0               0                    0  ...           11         11         0\n",
              "1     0               0                    1  ...           11         18         2\n",
              "2     0               0                    3  ...           11         18         2\n",
              "3     0               0                    4  ...           11          0         0\n",
              "4     0               0                    5  ...           11         18         3\n",
              "\n",
              "[5 rows x 11 columns]"
            ]
          },
          "metadata": {
            "tags": []
          },
          "execution_count": 57
        }
      ]
    },
    {
      "cell_type": "code",
      "metadata": {
        "id": "kwfUSVO_M_jg",
        "colab_type": "code",
        "colab": {
          "base_uri": "https://localhost:8080/",
          "height": 323
        },
        "outputId": "14a02610-bb47-431e-fe89-ac19f2026a0e"
      },
      "source": [
        "df1.info()"
      ],
      "execution_count": 58,
      "outputs": [
        {
          "output_type": "stream",
          "text": [
            "<class 'pandas.core.frame.DataFrame'>\n",
            "RangeIndex: 1500000 entries, 0 to 1499999\n",
            "Data columns (total 11 columns):\n",
            " #   Column               Non-Null Count    Dtype\n",
            "---  ------               --------------    -----\n",
            " 0   hour                 1500000 non-null  int64\n",
            " 1   origin station       1500000 non-null  int64\n",
            " 2   destination station  1500000 non-null  int64\n",
            " 3   trip count           1500000 non-null  int64\n",
            " 4   num_month            1500000 non-null  int64\n",
            " 5   num_week             1500000 non-null  int64\n",
            " 6   num_day              1500000 non-null  int64\n",
            " 7   num_hour             1500000 non-null  int64\n",
            " 8   origin city          1500000 non-null  int64\n",
            " 9   dest city            1500000 non-null  int64\n",
            " 10  distance             1500000 non-null  int64\n",
            "dtypes: int64(11)\n",
            "memory usage: 125.9 MB\n"
          ],
          "name": "stdout"
        }
      ]
    },
    {
      "cell_type": "code",
      "metadata": {
        "id": "x6h1uoDDi_5d",
        "colab_type": "code",
        "colab": {}
      },
      "source": [
        "df_test = df1[df1.num_hour == 1224]"
      ],
      "execution_count": 59,
      "outputs": []
    },
    {
      "cell_type": "code",
      "metadata": {
        "id": "UmRJQlxli_em",
        "colab_type": "code",
        "colab": {}
      },
      "source": [
        "df1 = df1.loc[df1.num_hour <1224]"
      ],
      "execution_count": 60,
      "outputs": []
    },
    {
      "cell_type": "code",
      "metadata": {
        "id": "YjP8WCzS-nrQ",
        "colab_type": "code",
        "colab": {}
      },
      "source": [
        "def lag_feature(df, lags, col):\n",
        "  temp = df[['origin station', 'destination station', 'num_hour', col]]\n",
        "  for i in range(lags):\n",
        "    shift = temp.copy()\n",
        "    shift.columns = ['origin station', 'destination station', 'num_hour', col+' '+'lagged_' + str(i)]\n",
        "    shift['num_hour'] += i\n",
        "    df = pd.merge(df, shift, how='left', on= ['origin station', 'destination station', 'num_hour'])\n",
        "  return df"
      ],
      "execution_count": 61,
      "outputs": []
    },
    {
      "cell_type": "code",
      "metadata": {
        "id": "XuY5joM-njaq",
        "colab_type": "code",
        "colab": {}
      },
      "source": [
        "def ctype(df, cols, type):\n",
        "  for n in df.columns[cols:]:\n",
        "    df[n] = df[n].astype(type)\n",
        "  return df"
      ],
      "execution_count": null,
      "outputs": []
    },
    {
      "cell_type": "code",
      "metadata": {
        "id": "Yr0LCHQrleZe",
        "colab_type": "code",
        "colab": {}
      },
      "source": [
        "df1 = ctype(df1, 0, 'int32')"
      ],
      "execution_count": 62,
      "outputs": []
    },
    {
      "cell_type": "code",
      "metadata": {
        "id": "NpPRYJF7YSZI",
        "colab_type": "code",
        "colab": {}
      },
      "source": [
        "df1 = lag_feature(df1, 5, 'trip count')"
      ],
      "execution_count": 63,
      "outputs": []
    },
    {
      "cell_type": "code",
      "metadata": {
        "id": "wGFIasXNlsDm",
        "colab_type": "code",
        "colab": {}
      },
      "source": [
        "df1 = ctype(df1, -4, 'float32')"
      ],
      "execution_count": 64,
      "outputs": []
    },
    {
      "cell_type": "markdown",
      "metadata": {
        "id": "yymm4Do_kyV2",
        "colab_type": "text"
      },
      "source": [
        "num_day/ avg trip count"
      ]
    },
    {
      "cell_type": "code",
      "metadata": {
        "id": "lJ8_ako-9RE6",
        "colab_type": "code",
        "colab": {}
      },
      "source": [
        "ls = df1.groupby(['num_day', 'origin station', 'destination station']).agg({'trip count':'mean'}).reset_index()\n",
        "ls.columns = ['num_day', 'origin station', 'destination station','avg trip count']"
      ],
      "execution_count": 66,
      "outputs": []
    },
    {
      "cell_type": "code",
      "metadata": {
        "id": "Wxjt-lHA9QvH",
        "colab_type": "code",
        "colab": {}
      },
      "source": [
        "df1 = pd.merge(df1, ls, on=['num_day', 'origin station', 'destination station'], how='left')\n",
        "df1 = lag_feature(df1, 5, 'avg trip count')\n",
        "df1.drop('avg trip count', axis=1 ,inplace=True)"
      ],
      "execution_count": 68,
      "outputs": []
    },
    {
      "cell_type": "code",
      "metadata": {
        "id": "PV2Rgcii9QyU",
        "colab_type": "code",
        "colab": {}
      },
      "source": [
        "df1 = ctype(df1, -9, 'float32')"
      ],
      "execution_count": 76,
      "outputs": []
    },
    {
      "cell_type": "markdown",
      "metadata": {
        "id": "4XNaI6vGn-dk",
        "colab_type": "text"
      },
      "source": [
        "num_month/ avg trip count"
      ]
    },
    {
      "cell_type": "code",
      "metadata": {
        "id": "JyZGRSCbVVlL",
        "colab_type": "code",
        "colab": {}
      },
      "source": [
        "ls = df1.groupby(['num_month', 'origin station', 'destination station']).agg({'trip count':'mean'}).reset_index()\n",
        "ls.columns = ['num_month', 'origin station', 'destination station','avg trip count']\n",
        "\n",
        "df1 = pd.merge(df1, ls, on=['num_month', 'origin station', 'destination station'], how='left')\n",
        "df1 = lag_feature(df1, 2, 'avg trip count')\n",
        "df1.drop('avg trip count', axis=1 ,inplace=True)"
      ],
      "execution_count": 79,
      "outputs": []
    },
    {
      "cell_type": "code",
      "metadata": {
        "id": "fE5jbH69VV2Y",
        "colab_type": "code",
        "colab": {}
      },
      "source": [
        "df1 = ctype(df1, -2, 'float32')"
      ],
      "execution_count": 82,
      "outputs": []
    },
    {
      "cell_type": "markdown",
      "metadata": {
        "id": "D-1aRNurocX_",
        "colab_type": "text"
      },
      "source": [
        "num_hour/ avg trip count"
      ]
    },
    {
      "cell_type": "code",
      "metadata": {
        "id": "rMD2ngZtobxk",
        "colab_type": "code",
        "colab": {}
      },
      "source": [
        "ls = df1.groupby(['num_hour', 'origin station', 'destination station']).agg({'trip count':'mean'}).reset_index()\n",
        "ls.columns = ['num_hour', 'origin station', 'destination station','avg trip count']\n",
        "\n",
        "df1 = pd.merge(df1, ls, on=['num_hour', 'origin station', 'destination station'], how='left')\n",
        "df1 = lag_feature(df1, 5, 'avg trip count')\n",
        "df1.drop('avg trip count', axis=1 ,inplace=True)"
      ],
      "execution_count": 83,
      "outputs": []
    },
    {
      "cell_type": "code",
      "metadata": {
        "id": "Xkhu7fApVV9E",
        "colab_type": "code",
        "colab": {}
      },
      "source": [
        "df1 = ctype(df1, -4, 'float32')"
      ],
      "execution_count": 85,
      "outputs": []
    },
    {
      "cell_type": "code",
      "metadata": {
        "id": "iKi0XV1-VVyE",
        "colab_type": "code",
        "colab": {
          "base_uri": "https://localhost:8080/",
          "height": 510
        },
        "outputId": "ac51b9c4-7c42-4781-f7d4-e34f52112baa"
      },
      "source": [
        "le = round(len(df1)/2)\n",
        "df1.iloc[:le].isnull().sum()"
      ],
      "execution_count": 93,
      "outputs": [
        {
          "output_type": "execute_result",
          "data": {
            "text/plain": [
              "hour                              0\n",
              "origin station                    0\n",
              "destination station               0\n",
              "trip count                        0\n",
              "num_month                         0\n",
              "num_week                          0\n",
              "num_day                           0\n",
              "num_hour                          0\n",
              "origin city                       0\n",
              "dest city                         0\n",
              "distance                          0\n",
              "trip count lagged_0               0\n",
              "trip count lagged_1          151394\n",
              "trip count lagged_2          182366\n",
              "trip count lagged_3          212004\n",
              "trip count lagged_4          233919\n",
              "avg trip count lagged_0_x         0\n",
              "avg trip count lagged_1_x    151394\n",
              "avg trip count lagged_2_x    182366\n",
              "avg trip count lagged_3_x    212004\n",
              "avg trip count lagged_4_x    233919\n",
              "avg trip count lagged_0_y         0\n",
              "avg trip count lagged_1_y    151394\n",
              "avg trip count lagged_0           0\n",
              "avg trip count lagged_1      151394\n",
              "avg trip count lagged_2_y    182366\n",
              "avg trip count lagged_3_y    212004\n",
              "avg trip count lagged_4_y    233919\n",
              "dtype: int64"
            ]
          },
          "metadata": {
            "tags": []
          },
          "execution_count": 93
        }
      ]
    },
    {
      "cell_type": "code",
      "metadata": {
        "id": "88fW7W33VVwt",
        "colab_type": "code",
        "colab": {}
      },
      "source": [
        "dfs = df1.iloc[:le].dropna(axis=0)"
      ],
      "execution_count": 94,
      "outputs": []
    },
    {
      "cell_type": "code",
      "metadata": {
        "id": "etmSG4zeVVuA",
        "colab_type": "code",
        "colab": {}
      },
      "source": [
        "dfs = dfs.append(df1.iloc[le:])"
      ],
      "execution_count": 98,
      "outputs": []
    },
    {
      "cell_type": "code",
      "metadata": {
        "id": "PBzYURt4VVqy",
        "colab_type": "code",
        "colab": {}
      },
      "source": [
        "dfs.fillna(0, inplace=True)"
      ],
      "execution_count": 103,
      "outputs": []
    },
    {
      "cell_type": "code",
      "metadata": {
        "id": "0gk_YYUjVVgW",
        "colab_type": "code",
        "colab": {}
      },
      "source": [
        "del df1"
      ],
      "execution_count": 104,
      "outputs": []
    },
    {
      "cell_type": "code",
      "metadata": {
        "id": "kTxJ6KOGVVed",
        "colab_type": "code",
        "colab": {
          "base_uri": "https://localhost:8080/",
          "height": 258
        },
        "outputId": "62c1584b-f0bd-46b5-bd1c-16c17b82b1c8"
      },
      "source": [
        "dfs.tail()\n"
      ],
      "execution_count": 105,
      "outputs": [
        {
          "output_type": "execute_result",
          "data": {
            "text/html": [
              "<div>\n",
              "<style scoped>\n",
              "    .dataframe tbody tr th:only-of-type {\n",
              "        vertical-align: middle;\n",
              "    }\n",
              "\n",
              "    .dataframe tbody tr th {\n",
              "        vertical-align: top;\n",
              "    }\n",
              "\n",
              "    .dataframe thead th {\n",
              "        text-align: right;\n",
              "    }\n",
              "</style>\n",
              "<table border=\"1\" class=\"dataframe\">\n",
              "  <thead>\n",
              "    <tr style=\"text-align: right;\">\n",
              "      <th></th>\n",
              "      <th>hour</th>\n",
              "      <th>origin station</th>\n",
              "      <th>destination station</th>\n",
              "      <th>trip count</th>\n",
              "      <th>num_month</th>\n",
              "      <th>num_week</th>\n",
              "      <th>num_day</th>\n",
              "      <th>num_hour</th>\n",
              "      <th>origin city</th>\n",
              "      <th>dest city</th>\n",
              "      <th>distance</th>\n",
              "      <th>trip count lagged_0</th>\n",
              "      <th>trip count lagged_1</th>\n",
              "      <th>trip count lagged_2</th>\n",
              "      <th>trip count lagged_3</th>\n",
              "      <th>trip count lagged_4</th>\n",
              "      <th>avg trip count lagged_0_x</th>\n",
              "      <th>avg trip count lagged_1_x</th>\n",
              "      <th>avg trip count lagged_2_x</th>\n",
              "      <th>avg trip count lagged_3_x</th>\n",
              "      <th>avg trip count lagged_4_x</th>\n",
              "      <th>avg trip count lagged_0_y</th>\n",
              "      <th>avg trip count lagged_1_y</th>\n",
              "      <th>avg trip count lagged_0</th>\n",
              "      <th>avg trip count lagged_1</th>\n",
              "      <th>avg trip count lagged_2_y</th>\n",
              "      <th>avg trip count lagged_3_y</th>\n",
              "      <th>avg trip count lagged_4_y</th>\n",
              "    </tr>\n",
              "  </thead>\n",
              "  <tbody>\n",
              "    <tr>\n",
              "      <th>1494562</th>\n",
              "      <td>18</td>\n",
              "      <td>44</td>\n",
              "      <td>39</td>\n",
              "      <td>1</td>\n",
              "      <td>1</td>\n",
              "      <td>9</td>\n",
              "      <td>54</td>\n",
              "      <td>1223</td>\n",
              "      <td>11</td>\n",
              "      <td>8</td>\n",
              "      <td>4</td>\n",
              "      <td>1</td>\n",
              "      <td>1.0</td>\n",
              "      <td>3.0</td>\n",
              "      <td>1.0</td>\n",
              "      <td>1.0</td>\n",
              "      <td>1.454545</td>\n",
              "      <td>1.454545</td>\n",
              "      <td>1.454545</td>\n",
              "      <td>1.454545</td>\n",
              "      <td>1.454545</td>\n",
              "      <td>1.514151</td>\n",
              "      <td>1.514151</td>\n",
              "      <td>1</td>\n",
              "      <td>1.0</td>\n",
              "      <td>3.0</td>\n",
              "      <td>1.0</td>\n",
              "      <td>1.0</td>\n",
              "    </tr>\n",
              "    <tr>\n",
              "      <th>1494563</th>\n",
              "      <td>18</td>\n",
              "      <td>44</td>\n",
              "      <td>40</td>\n",
              "      <td>1</td>\n",
              "      <td>1</td>\n",
              "      <td>9</td>\n",
              "      <td>54</td>\n",
              "      <td>1223</td>\n",
              "      <td>11</td>\n",
              "      <td>20</td>\n",
              "      <td>3</td>\n",
              "      <td>1</td>\n",
              "      <td>2.0</td>\n",
              "      <td>0.0</td>\n",
              "      <td>1.0</td>\n",
              "      <td>0.0</td>\n",
              "      <td>1.666667</td>\n",
              "      <td>1.666667</td>\n",
              "      <td>0.000000</td>\n",
              "      <td>1.666667</td>\n",
              "      <td>0.000000</td>\n",
              "      <td>1.552941</td>\n",
              "      <td>1.552941</td>\n",
              "      <td>1</td>\n",
              "      <td>2.0</td>\n",
              "      <td>0.0</td>\n",
              "      <td>1.0</td>\n",
              "      <td>0.0</td>\n",
              "    </tr>\n",
              "    <tr>\n",
              "      <th>1494564</th>\n",
              "      <td>18</td>\n",
              "      <td>44</td>\n",
              "      <td>41</td>\n",
              "      <td>1</td>\n",
              "      <td>1</td>\n",
              "      <td>9</td>\n",
              "      <td>54</td>\n",
              "      <td>1223</td>\n",
              "      <td>11</td>\n",
              "      <td>21</td>\n",
              "      <td>5</td>\n",
              "      <td>1</td>\n",
              "      <td>3.0</td>\n",
              "      <td>0.0</td>\n",
              "      <td>2.0</td>\n",
              "      <td>0.0</td>\n",
              "      <td>1.833333</td>\n",
              "      <td>1.833333</td>\n",
              "      <td>0.000000</td>\n",
              "      <td>1.833333</td>\n",
              "      <td>0.000000</td>\n",
              "      <td>1.466292</td>\n",
              "      <td>1.466292</td>\n",
              "      <td>1</td>\n",
              "      <td>3.0</td>\n",
              "      <td>0.0</td>\n",
              "      <td>2.0</td>\n",
              "      <td>0.0</td>\n",
              "    </tr>\n",
              "    <tr>\n",
              "      <th>1494565</th>\n",
              "      <td>18</td>\n",
              "      <td>44</td>\n",
              "      <td>42</td>\n",
              "      <td>2</td>\n",
              "      <td>1</td>\n",
              "      <td>9</td>\n",
              "      <td>54</td>\n",
              "      <td>1223</td>\n",
              "      <td>11</td>\n",
              "      <td>22</td>\n",
              "      <td>4</td>\n",
              "      <td>2</td>\n",
              "      <td>3.0</td>\n",
              "      <td>0.0</td>\n",
              "      <td>2.0</td>\n",
              "      <td>0.0</td>\n",
              "      <td>2.500000</td>\n",
              "      <td>2.500000</td>\n",
              "      <td>0.000000</td>\n",
              "      <td>2.500000</td>\n",
              "      <td>0.000000</td>\n",
              "      <td>1.813008</td>\n",
              "      <td>1.813008</td>\n",
              "      <td>2</td>\n",
              "      <td>3.0</td>\n",
              "      <td>0.0</td>\n",
              "      <td>2.0</td>\n",
              "      <td>0.0</td>\n",
              "    </tr>\n",
              "    <tr>\n",
              "      <th>1494566</th>\n",
              "      <td>18</td>\n",
              "      <td>44</td>\n",
              "      <td>43</td>\n",
              "      <td>1</td>\n",
              "      <td>1</td>\n",
              "      <td>9</td>\n",
              "      <td>54</td>\n",
              "      <td>1223</td>\n",
              "      <td>11</td>\n",
              "      <td>5</td>\n",
              "      <td>6</td>\n",
              "      <td>1</td>\n",
              "      <td>1.0</td>\n",
              "      <td>0.0</td>\n",
              "      <td>0.0</td>\n",
              "      <td>0.0</td>\n",
              "      <td>1.500000</td>\n",
              "      <td>1.500000</td>\n",
              "      <td>0.000000</td>\n",
              "      <td>0.000000</td>\n",
              "      <td>0.000000</td>\n",
              "      <td>1.455056</td>\n",
              "      <td>1.455056</td>\n",
              "      <td>1</td>\n",
              "      <td>1.0</td>\n",
              "      <td>0.0</td>\n",
              "      <td>0.0</td>\n",
              "      <td>0.0</td>\n",
              "    </tr>\n",
              "  </tbody>\n",
              "</table>\n",
              "</div>"
            ],
            "text/plain": [
              "         hour  ...  avg trip count lagged_4_y\n",
              "1494562    18  ...                        1.0\n",
              "1494563    18  ...                        0.0\n",
              "1494564    18  ...                        0.0\n",
              "1494565    18  ...                        0.0\n",
              "1494566    18  ...                        0.0\n",
              "\n",
              "[5 rows x 28 columns]"
            ]
          },
          "metadata": {
            "tags": []
          },
          "execution_count": 105
        }
      ]
    },
    {
      "cell_type": "code",
      "metadata": {
        "id": "S-MlN7JdVVR5",
        "colab_type": "code",
        "colab": {}
      },
      "source": [
        "dfs1 = dfs.drop(['hour', 'num_month', 'num_week', 'num_day'], axis=1)"
      ],
      "execution_count": 108,
      "outputs": []
    },
    {
      "cell_type": "code",
      "metadata": {
        "id": "lVRTX-62VVPZ",
        "colab_type": "code",
        "colab": {}
      },
      "source": [
        "dfs_test = dfs1[dfs1.num_hour==1223]\n",
        "dfs1 = dfs1[dfs1.num_hour<1223]"
      ],
      "execution_count": 112,
      "outputs": []
    },
    {
      "cell_type": "code",
      "metadata": {
        "id": "tW_ZJSMcVVF3",
        "colab_type": "code",
        "colab": {}
      },
      "source": [
        "y_train = dfs1.pop('trip count')\n",
        "X_train = dfs1"
      ],
      "execution_count": 114,
      "outputs": []
    },
    {
      "cell_type": "code",
      "metadata": {
        "id": "IIDfbPWjN5f1",
        "colab_type": "code",
        "colab": {}
      },
      "source": [
        "y_test = dfs_test.pop('trip count')\n",
        "X_test = dfs_test"
      ],
      "execution_count": 115,
      "outputs": []
    },
    {
      "cell_type": "code",
      "metadata": {
        "id": "VZTt9xPYuYiP",
        "colab_type": "code",
        "colab": {}
      },
      "source": [
        ""
      ],
      "execution_count": null,
      "outputs": []
    },
    {
      "cell_type": "markdown",
      "metadata": {
        "id": "7f28PzEsuY1N",
        "colab_type": "text"
      },
      "source": [
        "Plug it in XGB"
      ]
    },
    {
      "cell_type": "code",
      "metadata": {
        "id": "-Fsbgl8Et-jk",
        "colab_type": "code",
        "colab": {}
      },
      "source": [
        "from xgboost import XGBRegressor\n",
        "from sklearn.metrics import r2_score, mean_squared_error, mean_absolute_error"
      ],
      "execution_count": 127,
      "outputs": []
    },
    {
      "cell_type": "code",
      "metadata": {
        "id": "WjVUfPU2uXb4",
        "colab_type": "code",
        "colab": {
          "base_uri": "https://localhost:8080/",
          "height": 153
        },
        "outputId": "859dd4e5-17a6-490c-a14d-ef9f90c6215f"
      },
      "source": [
        "model = XGBRegressor()\n",
        "model.fit(X_train, y_train)"
      ],
      "execution_count": 124,
      "outputs": [
        {
          "output_type": "stream",
          "text": [
            "[23:06:37] WARNING: /workspace/src/objective/regression_obj.cu:152: reg:linear is now deprecated in favor of reg:squarederror.\n"
          ],
          "name": "stdout"
        },
        {
          "output_type": "execute_result",
          "data": {
            "text/plain": [
              "XGBRegressor(base_score=0.5, booster='gbtree', colsample_bylevel=1,\n",
              "             colsample_bynode=1, colsample_bytree=1, gamma=0,\n",
              "             importance_type='gain', learning_rate=0.1, max_delta_step=0,\n",
              "             max_depth=3, min_child_weight=1, missing=None, n_estimators=100,\n",
              "             n_jobs=1, nthread=None, objective='reg:linear', random_state=0,\n",
              "             reg_alpha=0, reg_lambda=1, scale_pos_weight=1, seed=None,\n",
              "             silent=None, subsample=1, verbosity=1)"
            ]
          },
          "metadata": {
            "tags": []
          },
          "execution_count": 124
        }
      ]
    },
    {
      "cell_type": "code",
      "metadata": {
        "id": "h6s5hUvGuXtm",
        "colab_type": "code",
        "colab": {}
      },
      "source": [
        "result = model.predict(X_test)"
      ],
      "execution_count": 125,
      "outputs": []
    },
    {
      "cell_type": "code",
      "metadata": {
        "id": "lYQe1KrxuXw2",
        "colab_type": "code",
        "colab": {
          "base_uri": "https://localhost:8080/",
          "height": 68
        },
        "outputId": "4a552ff7-d9d4-47a0-9599-ae074bd4c6e0"
      },
      "source": [
        "for n in [r2_score, mean_absolute_error, mean_squared_error]:\n",
        "  print(n(y_test, result))"
      ],
      "execution_count": 128,
      "outputs": [
        {
          "output_type": "stream",
          "text": [
            "0.9999439716611941\n",
            "0.1542849733005186\n",
            "0.18684455172324665\n"
          ],
          "name": "stdout"
        }
      ]
    },
    {
      "cell_type": "code",
      "metadata": {
        "id": "cXMMbFC8uXlO",
        "colab_type": "code",
        "colab": {}
      },
      "source": [
        "from sklearn.linear_model import LogisticRegression"
      ],
      "execution_count": 136,
      "outputs": []
    },
    {
      "cell_type": "code",
      "metadata": {
        "id": "po9Dw5vbuXiM",
        "colab_type": "code",
        "colab": {}
      },
      "source": [
        "lr = LogisticRegression()\n",
        "lr.fit(X_train, y_train)\n",
        "\n",
        "result = lr.predict(X_test)"
      ],
      "execution_count": null,
      "outputs": []
    },
    {
      "cell_type": "code",
      "metadata": {
        "id": "6FW82sz1uXYV",
        "colab_type": "code",
        "colab": {}
      },
      "source": [
        "for n in [r2_score, mean_absolute_error, mean_squared_error]:\n",
        "  print(n(y_test, result))"
      ],
      "execution_count": null,
      "outputs": []
    },
    {
      "cell_type": "code",
      "metadata": {
        "id": "hdSiWqhzt-fa",
        "colab_type": "code",
        "colab": {}
      },
      "source": [
        "plt.scatter(y_test, result)"
      ],
      "execution_count": null,
      "outputs": []
    },
    {
      "cell_type": "code",
      "metadata": {
        "id": "R9oSMWXyuxkG",
        "colab_type": "code",
        "colab": {}
      },
      "source": [
        ""
      ],
      "execution_count": 65,
      "outputs": []
    },
    {
      "cell_type": "code",
      "metadata": {
        "id": "OHywxf7Suxhm",
        "colab_type": "code",
        "colab": {}
      },
      "source": [
        ""
      ],
      "execution_count": 65,
      "outputs": []
    },
    {
      "cell_type": "code",
      "metadata": {
        "id": "6_UFGlbRuxYi",
        "colab_type": "code",
        "colab": {}
      },
      "source": [
        ""
      ],
      "execution_count": 65,
      "outputs": []
    }
  ]
}