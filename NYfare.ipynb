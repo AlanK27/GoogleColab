{
  "nbformat": 4,
  "nbformat_minor": 0,
  "metadata": {
    "colab": {
      "name": "NYfare.ipynb",
      "provenance": [],
      "collapsed_sections": [],
      "mount_file_id": "1MnPwMNsWz1UMNdBpHTOJz2SdhRqRGecv",
      "authorship_tag": "ABX9TyOzoqAZvZpQrx2ui0gALd7A"
    },
    "kernelspec": {
      "name": "python3",
      "display_name": "Python 3"
    }
  },
  "cells": [
    {
      "cell_type": "code",
      "metadata": {
        "id": "aTGV2S7PY7tt",
        "colab_type": "code",
        "colab": {}
      },
      "source": [
        "# https://www.kaggle.com/c/new-york-city-taxi-fare-prediction/submissions\n",
        "# /content/drive/My Drive/datasets/new_york_fare/new-york-city-taxi-fare-prediction.zip"
      ],
      "execution_count": null,
      "outputs": []
    },
    {
      "cell_type": "code",
      "metadata": {
        "id": "uF_zU5SdcWIo",
        "colab_type": "code",
        "colab": {}
      },
      "source": [
        "import csv\n",
        "from datetime import datetime, timedelta\n",
        "from io import StringIO\n",
        "import matplotlib.pyplot as plt\n",
        "import numpy as np\n",
        "import pandas as pd\n",
        "import random\n",
        "import tensorflow as tf\n",
        "from zipfile import ZipFile"
      ],
      "execution_count": null,
      "outputs": []
    },
    {
      "cell_type": "code",
      "metadata": {
        "id": "tlTJGoJsciSf",
        "colab_type": "code",
        "colab": {
          "base_uri": "https://localhost:8080/",
          "height": 34
        },
        "outputId": "102bed8d-2c6e-411d-daf3-b954aa3e85e9"
      },
      "source": [
        "zip=ZipFile('/content/drive/My Drive/datasets/new_york_fare/new-york-city-taxi-fare-prediction.zip')\n",
        "zip.namelist()\n",
        "\n",
        "# lazy generator scans through the files\n",
        "with zip.open('test.csv') as fin:\n",
        "    total_lines = sum(1 for line in fin)\n",
        "print(total_lines)\n",
        "zip.close()\n",
        "\n",
        "# train.csv # of lines 55423857\n",
        "# test                 9915"
      ],
      "execution_count": null,
      "outputs": [
        {
          "output_type": "stream",
          "text": [
            "9915\n"
          ],
          "name": "stdout"
        }
      ]
    },
    {
      "cell_type": "code",
      "metadata": {
        "id": "oWVL0nGch2oI",
        "colab_type": "code",
        "colab": {
          "base_uri": "https://localhost:8080/",
          "height": 54
        },
        "outputId": "75a1fd1e-7161-414a-e125-96489b54eaef"
      },
      "source": [
        "zip=ZipFile('/content/drive/My Drive/datasets/new_york_fare/new-york-city-taxi-fare-prediction.zip')\n",
        "zip.namelist()\n",
        "print(dir(zip))\n",
        "if '__iter__' in dir(zip):\n",
        "  print('yee')\n",
        "zip.close()"
      ],
      "execution_count": null,
      "outputs": [
        {
          "output_type": "stream",
          "text": [
            "['NameToInfo', '_RealGetContents', '__class__', '__del__', '__delattr__', '__dict__', '__dir__', '__doc__', '__enter__', '__eq__', '__exit__', '__format__', '__ge__', '__getattribute__', '__gt__', '__hash__', '__init__', '__init_subclass__', '__le__', '__lt__', '__module__', '__ne__', '__new__', '__reduce__', '__reduce_ex__', '__repr__', '__setattr__', '__sizeof__', '__str__', '__subclasshook__', '__weakref__', '_allowZip64', '_comment', '_didModify', '_extract_member', '_filePassed', '_fileRefCnt', '_fpclose', '_lock', '_open_to_write', '_sanitize_windows_name', '_seekable', '_windows_illegal_name_trans_table', '_write_end_record', '_writecheck', '_writing', 'close', 'comment', 'compression', 'debug', 'extract', 'extractall', 'filelist', 'filename', 'fp', 'getinfo', 'infolist', 'mode', 'namelist', 'open', 'printdir', 'pwd', 'read', 'setpassword', 'start_dir', 'testzip', 'write', 'writestr']\n"
          ],
          "name": "stdout"
        }
      ]
    },
    {
      "cell_type": "code",
      "metadata": {
        "id": "x53DXSXXfH-t",
        "colab_type": "code",
        "colab": {}
      },
      "source": [
        "# https://nikgrozev.com/2015/06/16/fast-and-simple-sampling-in-pandas-when-loading-data-from-files/\n",
        "\n",
        "zip = ZipFile('/content/drive/My Drive/datasets/new_york_fare/new-york-city-taxi-fare-prediction.zip', 'r')\n",
        "\n",
        "with zip.open('train.csv') as rf:\n",
        "\n",
        "  n = 10000\n",
        "\n",
        "  # Count the lines or use an upper bound\n",
        "  num_lines = 55423857\n",
        "\n",
        "  # The row indices to skip - make sure 0 is not included to keep the header!\n",
        "  skip_idx = [x for x in range(1, num_lines) if x % n != 0]\n",
        "  df = pd.read_csv(rf, skiprows=skip_idx)\n",
        "\n",
        "zip.close()"
      ],
      "execution_count": null,
      "outputs": []
    },
    {
      "cell_type": "code",
      "metadata": {
        "id": "bq0V2KX5ciQn",
        "colab_type": "code",
        "colab": {}
      },
      "source": [
        "# zip = ZipFile('/content/drive/My Drive/datasets/new_york_fare/new-york-city-taxi-fare-prediction.zip', 'r')\n",
        "\n",
        "# with zip.open('test.csv') as rf:\n",
        "#   num_lines = 9915\n",
        "\n",
        "#   # Sample size - in this case ~10%\n",
        "#   size = int(num_lines / 10)\n",
        "\n",
        "#   # The row indices to skip - make sure 0 is not included to keep the header!\n",
        "#   skip_idx = random.sample(range(1, num_lines), num_lines - size)\n",
        "\n",
        "#   # Read the data\n",
        "#   data = pd.read_csv(rf, skiprows=skip_idx)\n",
        "# zip.close()"
      ],
      "execution_count": null,
      "outputs": []
    },
    {
      "cell_type": "code",
      "metadata": {
        "id": "pceOpWJjciHk",
        "colab_type": "code",
        "colab": {
          "base_uri": "https://localhost:8080/",
          "height": 204
        },
        "outputId": "0765980b-dd29-4439-8a15-bba2b5dfb98b"
      },
      "source": [
        "df.head()"
      ],
      "execution_count": null,
      "outputs": [
        {
          "output_type": "execute_result",
          "data": {
            "text/html": [
              "<div>\n",
              "<style scoped>\n",
              "    .dataframe tbody tr th:only-of-type {\n",
              "        vertical-align: middle;\n",
              "    }\n",
              "\n",
              "    .dataframe tbody tr th {\n",
              "        vertical-align: top;\n",
              "    }\n",
              "\n",
              "    .dataframe thead th {\n",
              "        text-align: right;\n",
              "    }\n",
              "</style>\n",
              "<table border=\"1\" class=\"dataframe\">\n",
              "  <thead>\n",
              "    <tr style=\"text-align: right;\">\n",
              "      <th></th>\n",
              "      <th>key</th>\n",
              "      <th>fare_amount</th>\n",
              "      <th>pickup_datetime</th>\n",
              "      <th>pickup_longitude</th>\n",
              "      <th>pickup_latitude</th>\n",
              "      <th>dropoff_longitude</th>\n",
              "      <th>dropoff_latitude</th>\n",
              "      <th>passenger_count</th>\n",
              "    </tr>\n",
              "  </thead>\n",
              "  <tbody>\n",
              "    <tr>\n",
              "      <th>0</th>\n",
              "      <td>2011-07-05 06:48:44.0000002</td>\n",
              "      <td>10.5</td>\n",
              "      <td>2011-07-05 06:48:44 UTC</td>\n",
              "      <td>-73.978400</td>\n",
              "      <td>40.751700</td>\n",
              "      <td>-74.010500</td>\n",
              "      <td>40.713600</td>\n",
              "      <td>1</td>\n",
              "    </tr>\n",
              "    <tr>\n",
              "      <th>1</th>\n",
              "      <td>2011-07-17 14:27:35.0000002</td>\n",
              "      <td>8.9</td>\n",
              "      <td>2011-07-17 14:27:35 UTC</td>\n",
              "      <td>-73.974628</td>\n",
              "      <td>40.741923</td>\n",
              "      <td>-73.985966</td>\n",
              "      <td>40.722214</td>\n",
              "      <td>1</td>\n",
              "    </tr>\n",
              "    <tr>\n",
              "      <th>2</th>\n",
              "      <td>2009-10-28 13:04:00.000000109</td>\n",
              "      <td>9.3</td>\n",
              "      <td>2009-10-28 13:04:00 UTC</td>\n",
              "      <td>-73.963987</td>\n",
              "      <td>40.773680</td>\n",
              "      <td>-73.972325</td>\n",
              "      <td>40.760127</td>\n",
              "      <td>5</td>\n",
              "    </tr>\n",
              "    <tr>\n",
              "      <th>3</th>\n",
              "      <td>2010-02-17 09:55:00.000000206</td>\n",
              "      <td>15.3</td>\n",
              "      <td>2010-02-17 09:55:00 UTC</td>\n",
              "      <td>-73.991490</td>\n",
              "      <td>40.727165</td>\n",
              "      <td>-73.995898</td>\n",
              "      <td>40.764143</td>\n",
              "      <td>1</td>\n",
              "    </tr>\n",
              "    <tr>\n",
              "      <th>4</th>\n",
              "      <td>2010-01-13 08:13:14.0000007</td>\n",
              "      <td>10.9</td>\n",
              "      <td>2010-01-13 08:13:14 UTC</td>\n",
              "      <td>-73.932603</td>\n",
              "      <td>40.763805</td>\n",
              "      <td>-73.932603</td>\n",
              "      <td>40.763805</td>\n",
              "      <td>1</td>\n",
              "    </tr>\n",
              "  </tbody>\n",
              "</table>\n",
              "</div>"
            ],
            "text/plain": [
              "                             key  ...  passenger_count\n",
              "0    2011-07-05 06:48:44.0000002  ...                1\n",
              "1    2011-07-17 14:27:35.0000002  ...                1\n",
              "2  2009-10-28 13:04:00.000000109  ...                5\n",
              "3  2010-02-17 09:55:00.000000206  ...                1\n",
              "4    2010-01-13 08:13:14.0000007  ...                1\n",
              "\n",
              "[5 rows x 8 columns]"
            ]
          },
          "metadata": {
            "tags": []
          },
          "execution_count": 10
        }
      ]
    },
    {
      "cell_type": "code",
      "metadata": {
        "id": "yxe333p2ciEN",
        "colab_type": "code",
        "colab": {
          "base_uri": "https://localhost:8080/",
          "height": 34
        },
        "outputId": "4090b4a5-bb88-4f2c-89a8-5206441d0e9e"
      },
      "source": [
        "len(df)"
      ],
      "execution_count": null,
      "outputs": [
        {
          "output_type": "execute_result",
          "data": {
            "text/plain": [
              "5542"
            ]
          },
          "metadata": {
            "tags": []
          },
          "execution_count": 11
        }
      ]
    },
    {
      "cell_type": "code",
      "metadata": {
        "id": "0CGshpKzciAb",
        "colab_type": "code",
        "colab": {}
      },
      "source": [
        "df.info()"
      ],
      "execution_count": null,
      "outputs": []
    },
    {
      "cell_type": "code",
      "metadata": {
        "id": "16BlasMMchwy",
        "colab_type": "code",
        "colab": {}
      },
      "source": [
        "df['key'] = pd.to_datetime(df['key'], utc=True)"
      ],
      "execution_count": null,
      "outputs": []
    },
    {
      "cell_type": "code",
      "metadata": {
        "id": "07cf7eLF0ltj",
        "colab_type": "code",
        "colab": {}
      },
      "source": [
        "df['pickup_datetime'] = pd.to_datetime(df['pickup_datetime'])\n",
        "df['pickup_datetime'] = df['pickup_datetime'] + timedelta(hours=8)"
      ],
      "execution_count": null,
      "outputs": []
    },
    {
      "cell_type": "code",
      "metadata": {
        "id": "zWBJ9b1F0sLA",
        "colab_type": "code",
        "colab": {}
      },
      "source": [
        "df['distance'] = np.hypot(abs(df['pickup_longitude']-df['dropoff_longitude']) ,abs(df['pickup_latitude']-df['dropoff_latitude']) )"
      ],
      "execution_count": null,
      "outputs": []
    },
    {
      "cell_type": "code",
      "metadata": {
        "id": "n6sjoGyI0x5x",
        "colab_type": "code",
        "colab": {}
      },
      "source": [
        "df['displacement']  = abs(df['pickup_longitude']-df['dropoff_longitude']) + abs(df['pickup_latitude']-df['dropoff_latitude'])"
      ],
      "execution_count": null,
      "outputs": []
    },
    {
      "cell_type": "code",
      "metadata": {
        "id": "KyUU31dd0x2w",
        "colab_type": "code",
        "colab": {}
      },
      "source": [
        "df['pickup_hour'] = [n.hour for n in df['pickup_datetime']]\n",
        "df['pickup_day'] = [n.weekday() for n in df['pickup_datetime']]"
      ],
      "execution_count": null,
      "outputs": []
    },
    {
      "cell_type": "code",
      "metadata": {
        "id": "ggoCULWW0xzx",
        "colab_type": "code",
        "colab": {
          "base_uri": "https://localhost:8080/",
          "height": 289
        },
        "outputId": "55fa3466-3102-4a8f-b0b0-9d066a4d61a9"
      },
      "source": [
        "df.head()"
      ],
      "execution_count": null,
      "outputs": [
        {
          "output_type": "execute_result",
          "data": {
            "text/html": [
              "<div>\n",
              "<style scoped>\n",
              "    .dataframe tbody tr th:only-of-type {\n",
              "        vertical-align: middle;\n",
              "    }\n",
              "\n",
              "    .dataframe tbody tr th {\n",
              "        vertical-align: top;\n",
              "    }\n",
              "\n",
              "    .dataframe thead th {\n",
              "        text-align: right;\n",
              "    }\n",
              "</style>\n",
              "<table border=\"1\" class=\"dataframe\">\n",
              "  <thead>\n",
              "    <tr style=\"text-align: right;\">\n",
              "      <th></th>\n",
              "      <th>key</th>\n",
              "      <th>fare_amount</th>\n",
              "      <th>pickup_datetime</th>\n",
              "      <th>pickup_longitude</th>\n",
              "      <th>pickup_latitude</th>\n",
              "      <th>dropoff_longitude</th>\n",
              "      <th>dropoff_latitude</th>\n",
              "      <th>passenger_count</th>\n",
              "      <th>distance</th>\n",
              "      <th>displacement</th>\n",
              "      <th>pickup_hour</th>\n",
              "      <th>pickup_day</th>\n",
              "    </tr>\n",
              "  </thead>\n",
              "  <tbody>\n",
              "    <tr>\n",
              "      <th>0</th>\n",
              "      <td>2011-07-05 06:48:44.000000200+00:00</td>\n",
              "      <td>10.5</td>\n",
              "      <td>2011-07-05 14:48:44+00:00</td>\n",
              "      <td>-73.978400</td>\n",
              "      <td>40.751700</td>\n",
              "      <td>-74.010500</td>\n",
              "      <td>40.713600</td>\n",
              "      <td>1</td>\n",
              "      <td>0.049820</td>\n",
              "      <td>0.070200</td>\n",
              "      <td>14</td>\n",
              "      <td>1</td>\n",
              "    </tr>\n",
              "    <tr>\n",
              "      <th>1</th>\n",
              "      <td>2011-07-17 14:27:35.000000200+00:00</td>\n",
              "      <td>8.9</td>\n",
              "      <td>2011-07-17 22:27:35+00:00</td>\n",
              "      <td>-73.974628</td>\n",
              "      <td>40.741923</td>\n",
              "      <td>-73.985966</td>\n",
              "      <td>40.722214</td>\n",
              "      <td>1</td>\n",
              "      <td>0.022738</td>\n",
              "      <td>0.031047</td>\n",
              "      <td>22</td>\n",
              "      <td>6</td>\n",
              "    </tr>\n",
              "    <tr>\n",
              "      <th>2</th>\n",
              "      <td>2009-10-28 13:04:00.000000109+00:00</td>\n",
              "      <td>9.3</td>\n",
              "      <td>2009-10-28 21:04:00+00:00</td>\n",
              "      <td>-73.963987</td>\n",
              "      <td>40.773680</td>\n",
              "      <td>-73.972325</td>\n",
              "      <td>40.760127</td>\n",
              "      <td>5</td>\n",
              "      <td>0.015912</td>\n",
              "      <td>0.021891</td>\n",
              "      <td>21</td>\n",
              "      <td>2</td>\n",
              "    </tr>\n",
              "    <tr>\n",
              "      <th>3</th>\n",
              "      <td>2010-02-17 09:55:00.000000206+00:00</td>\n",
              "      <td>15.3</td>\n",
              "      <td>2010-02-17 17:55:00+00:00</td>\n",
              "      <td>-73.991490</td>\n",
              "      <td>40.727165</td>\n",
              "      <td>-73.995898</td>\n",
              "      <td>40.764143</td>\n",
              "      <td>1</td>\n",
              "      <td>0.037240</td>\n",
              "      <td>0.041386</td>\n",
              "      <td>17</td>\n",
              "      <td>2</td>\n",
              "    </tr>\n",
              "    <tr>\n",
              "      <th>4</th>\n",
              "      <td>2010-01-13 08:13:14.000000700+00:00</td>\n",
              "      <td>10.9</td>\n",
              "      <td>2010-01-13 16:13:14+00:00</td>\n",
              "      <td>-73.932603</td>\n",
              "      <td>40.763805</td>\n",
              "      <td>-73.932603</td>\n",
              "      <td>40.763805</td>\n",
              "      <td>1</td>\n",
              "      <td>0.000000</td>\n",
              "      <td>0.000000</td>\n",
              "      <td>16</td>\n",
              "      <td>2</td>\n",
              "    </tr>\n",
              "  </tbody>\n",
              "</table>\n",
              "</div>"
            ],
            "text/plain": [
              "                                  key  fare_amount  ... pickup_hour  pickup_day\n",
              "0 2011-07-05 06:48:44.000000200+00:00         10.5  ...          14           1\n",
              "1 2011-07-17 14:27:35.000000200+00:00          8.9  ...          22           6\n",
              "2 2009-10-28 13:04:00.000000109+00:00          9.3  ...          21           2\n",
              "3 2010-02-17 09:55:00.000000206+00:00         15.3  ...          17           2\n",
              "4 2010-01-13 08:13:14.000000700+00:00         10.9  ...          16           2\n",
              "\n",
              "[5 rows x 12 columns]"
            ]
          },
          "metadata": {
            "tags": []
          },
          "execution_count": 52
        }
      ]
    },
    {
      "cell_type": "code",
      "metadata": {
        "id": "TCM0P4ec0xxQ",
        "colab_type": "code",
        "colab": {
          "base_uri": "https://localhost:8080/",
          "height": 34
        },
        "outputId": "3f008eb7-259e-446c-fd83-23230cf4be8e"
      },
      "source": [
        "max(df['key'])"
      ],
      "execution_count": null,
      "outputs": [
        {
          "output_type": "execute_result",
          "data": {
            "text/plain": [
              "Timestamp('2015-06-30 19:46:30.000000300+0000', tz='UTC')"
            ]
          },
          "metadata": {
            "tags": []
          },
          "execution_count": 62
        }
      ]
    },
    {
      "cell_type": "code",
      "metadata": {
        "id": "Gt3nrQD50xug",
        "colab_type": "code",
        "colab": {
          "base_uri": "https://localhost:8080/",
          "height": 34
        },
        "outputId": "7e724069-d06d-4c97-bf15-e7bc6eef2a9f"
      },
      "source": [
        "min(df['key'])"
      ],
      "execution_count": null,
      "outputs": [
        {
          "output_type": "execute_result",
          "data": {
            "text/plain": [
              "Timestamp('2009-01-01 18:32:28.000000300+0000', tz='UTC')"
            ]
          },
          "metadata": {
            "tags": []
          },
          "execution_count": 63
        }
      ]
    },
    {
      "cell_type": "code",
      "metadata": {
        "id": "cSvkkp4B0xsn",
        "colab_type": "code",
        "colab": {}
      },
      "source": [
        ""
      ],
      "execution_count": null,
      "outputs": []
    },
    {
      "cell_type": "code",
      "metadata": {
        "id": "fkLfDLdK0xpY",
        "colab_type": "code",
        "colab": {}
      },
      "source": [
        ""
      ],
      "execution_count": null,
      "outputs": []
    },
    {
      "cell_type": "code",
      "metadata": {
        "id": "1T4XfwhP0xmV",
        "colab_type": "code",
        "colab": {}
      },
      "source": [
        ""
      ],
      "execution_count": null,
      "outputs": []
    },
    {
      "cell_type": "code",
      "metadata": {
        "id": "VDCJQSp20xjB",
        "colab_type": "code",
        "colab": {}
      },
      "source": [
        ""
      ],
      "execution_count": null,
      "outputs": []
    },
    {
      "cell_type": "code",
      "metadata": {
        "id": "B17BMWZz0xXx",
        "colab_type": "code",
        "colab": {}
      },
      "source": [
        ""
      ],
      "execution_count": null,
      "outputs": []
    }
  ]
}