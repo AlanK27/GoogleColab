{
  "nbformat": 4,
  "nbformat_minor": 0,
  "metadata": {
    "colab": {
      "name": "feature_columns.ipynb",
      "provenance": [],
      "collapsed_sections": [],
      "authorship_tag": "ABX9TyON1sLkiDQVQhBbI+GzpEzU"
    },
    "kernelspec": {
      "name": "python3",
      "display_name": "Python 3"
    }
  },
  "cells": [
    {
      "cell_type": "code",
      "metadata": {
        "id": "lM2ORc41WEaf",
        "colab_type": "code",
        "colab": {}
      },
      "source": [
        "import numpy as np\n",
        "import matplotlib.pyplot as plt\n",
        "import tensorflow as tf\n",
        "import pandas as pd"
      ],
      "execution_count": 1,
      "outputs": []
    },
    {
      "cell_type": "code",
      "metadata": {
        "id": "Qrv0y8BUWYHF",
        "colab_type": "code",
        "colab": {}
      },
      "source": [
        "dftrain = pd.read_csv('https://storage.googleapis.com/tf-datasets/titanic/train.csv') # training data\n",
        "dfeval = pd.read_csv('https://storage.googleapis.com/tf-datasets/titanic/eval.csv') # testing data\n",
        "y_train = dftrain.pop('survived')\n",
        "y_eval = dfeval.pop('survived')"
      ],
      "execution_count": 2,
      "outputs": []
    },
    {
      "cell_type": "code",
      "metadata": {
        "id": "QuAaQklVWccv",
        "colab_type": "code",
        "colab": {
          "base_uri": "https://localhost:8080/",
          "height": 204
        },
        "outputId": "88dc43d4-c08c-4073-ee35-36360061b93c"
      },
      "source": [
        "dftrain.head()"
      ],
      "execution_count": 3,
      "outputs": [
        {
          "output_type": "execute_result",
          "data": {
            "text/html": [
              "<div>\n",
              "<style scoped>\n",
              "    .dataframe tbody tr th:only-of-type {\n",
              "        vertical-align: middle;\n",
              "    }\n",
              "\n",
              "    .dataframe tbody tr th {\n",
              "        vertical-align: top;\n",
              "    }\n",
              "\n",
              "    .dataframe thead th {\n",
              "        text-align: right;\n",
              "    }\n",
              "</style>\n",
              "<table border=\"1\" class=\"dataframe\">\n",
              "  <thead>\n",
              "    <tr style=\"text-align: right;\">\n",
              "      <th></th>\n",
              "      <th>sex</th>\n",
              "      <th>age</th>\n",
              "      <th>n_siblings_spouses</th>\n",
              "      <th>parch</th>\n",
              "      <th>fare</th>\n",
              "      <th>class</th>\n",
              "      <th>deck</th>\n",
              "      <th>embark_town</th>\n",
              "      <th>alone</th>\n",
              "    </tr>\n",
              "  </thead>\n",
              "  <tbody>\n",
              "    <tr>\n",
              "      <th>0</th>\n",
              "      <td>male</td>\n",
              "      <td>22.0</td>\n",
              "      <td>1</td>\n",
              "      <td>0</td>\n",
              "      <td>7.2500</td>\n",
              "      <td>Third</td>\n",
              "      <td>unknown</td>\n",
              "      <td>Southampton</td>\n",
              "      <td>n</td>\n",
              "    </tr>\n",
              "    <tr>\n",
              "      <th>1</th>\n",
              "      <td>female</td>\n",
              "      <td>38.0</td>\n",
              "      <td>1</td>\n",
              "      <td>0</td>\n",
              "      <td>71.2833</td>\n",
              "      <td>First</td>\n",
              "      <td>C</td>\n",
              "      <td>Cherbourg</td>\n",
              "      <td>n</td>\n",
              "    </tr>\n",
              "    <tr>\n",
              "      <th>2</th>\n",
              "      <td>female</td>\n",
              "      <td>26.0</td>\n",
              "      <td>0</td>\n",
              "      <td>0</td>\n",
              "      <td>7.9250</td>\n",
              "      <td>Third</td>\n",
              "      <td>unknown</td>\n",
              "      <td>Southampton</td>\n",
              "      <td>y</td>\n",
              "    </tr>\n",
              "    <tr>\n",
              "      <th>3</th>\n",
              "      <td>female</td>\n",
              "      <td>35.0</td>\n",
              "      <td>1</td>\n",
              "      <td>0</td>\n",
              "      <td>53.1000</td>\n",
              "      <td>First</td>\n",
              "      <td>C</td>\n",
              "      <td>Southampton</td>\n",
              "      <td>n</td>\n",
              "    </tr>\n",
              "    <tr>\n",
              "      <th>4</th>\n",
              "      <td>male</td>\n",
              "      <td>28.0</td>\n",
              "      <td>0</td>\n",
              "      <td>0</td>\n",
              "      <td>8.4583</td>\n",
              "      <td>Third</td>\n",
              "      <td>unknown</td>\n",
              "      <td>Queenstown</td>\n",
              "      <td>y</td>\n",
              "    </tr>\n",
              "  </tbody>\n",
              "</table>\n",
              "</div>"
            ],
            "text/plain": [
              "      sex   age  n_siblings_spouses  parch  ...  class     deck  embark_town alone\n",
              "0    male  22.0                   1      0  ...  Third  unknown  Southampton     n\n",
              "1  female  38.0                   1      0  ...  First        C    Cherbourg     n\n",
              "2  female  26.0                   0      0  ...  Third  unknown  Southampton     y\n",
              "3  female  35.0                   1      0  ...  First        C  Southampton     n\n",
              "4    male  28.0                   0      0  ...  Third  unknown   Queenstown     y\n",
              "\n",
              "[5 rows x 9 columns]"
            ]
          },
          "metadata": {
            "tags": []
          },
          "execution_count": 3
        }
      ]
    },
    {
      "cell_type": "code",
      "metadata": {
        "id": "lBlQKkIAWexQ",
        "colab_type": "code",
        "colab": {
          "base_uri": "https://localhost:8080/",
          "height": 289
        },
        "outputId": "6005672c-4beb-46c8-e145-d1dcfa210e60"
      },
      "source": [
        "dftrain.info()"
      ],
      "execution_count": 4,
      "outputs": [
        {
          "output_type": "stream",
          "text": [
            "<class 'pandas.core.frame.DataFrame'>\n",
            "RangeIndex: 627 entries, 0 to 626\n",
            "Data columns (total 9 columns):\n",
            " #   Column              Non-Null Count  Dtype  \n",
            "---  ------              --------------  -----  \n",
            " 0   sex                 627 non-null    object \n",
            " 1   age                 627 non-null    float64\n",
            " 2   n_siblings_spouses  627 non-null    int64  \n",
            " 3   parch               627 non-null    int64  \n",
            " 4   fare                627 non-null    float64\n",
            " 5   class               627 non-null    object \n",
            " 6   deck                627 non-null    object \n",
            " 7   embark_town         627 non-null    object \n",
            " 8   alone               627 non-null    object \n",
            "dtypes: float64(2), int64(2), object(5)\n",
            "memory usage: 44.2+ KB\n"
          ],
          "name": "stdout"
        }
      ]
    },
    {
      "cell_type": "code",
      "metadata": {
        "id": "-rou0g7RXTPw",
        "colab_type": "code",
        "colab": {
          "base_uri": "https://localhost:8080/",
          "height": 187
        },
        "outputId": "93201ae7-3d7b-40eb-ee2a-ea44882cc425"
      },
      "source": [
        "dftrain.dtypes"
      ],
      "execution_count": 5,
      "outputs": [
        {
          "output_type": "execute_result",
          "data": {
            "text/plain": [
              "sex                    object\n",
              "age                   float64\n",
              "n_siblings_spouses      int64\n",
              "parch                   int64\n",
              "fare                  float64\n",
              "class                  object\n",
              "deck                   object\n",
              "embark_town            object\n",
              "alone                  object\n",
              "dtype: object"
            ]
          },
          "metadata": {
            "tags": []
          },
          "execution_count": 5
        }
      ]
    },
    {
      "cell_type": "code",
      "metadata": {
        "id": "r5sM8okmYYea",
        "colab_type": "code",
        "colab": {
          "base_uri": "https://localhost:8080/",
          "height": 68
        },
        "outputId": "f70830f7-ec66-4342-99d8-da1b883e3fdc"
      },
      "source": [
        "for n in dftrain.dtypes.unique():\n",
        "  print(list(dftrain.dtypes[dftrain.dtypes == n].index), str(n)[:3])"
      ],
      "execution_count": 22,
      "outputs": [
        {
          "output_type": "stream",
          "text": [
            "['sex', 'class', 'deck', 'embark_town', 'alone'] obj\n",
            "['age', 'fare'] flo\n",
            "['n_siblings_spouses', 'parch'] int\n"
          ],
          "name": "stdout"
        }
      ]
    },
    {
      "cell_type": "code",
      "metadata": {
        "id": "xEcRWIfxH9O8",
        "colab_type": "code",
        "colab": {
          "base_uri": "https://localhost:8080/",
          "height": 170
        },
        "outputId": "f770e788-e53d-4d9e-e6ba-6ecbbdd1749e"
      },
      "source": [
        "for n in dftrain.columns:\n",
        "  print(n ,dftrain[n].nunique())"
      ],
      "execution_count": 50,
      "outputs": [
        {
          "output_type": "stream",
          "text": [
            "sex 2\n",
            "age 76\n",
            "n_siblings_spouses 7\n",
            "parch 6\n",
            "fare 216\n",
            "class 3\n",
            "deck 8\n",
            "embark_town 4\n",
            "alone 2\n"
          ],
          "name": "stdout"
        }
      ]
    },
    {
      "cell_type": "code",
      "metadata": {
        "id": "orOcQQp-IOx0",
        "colab_type": "code",
        "colab": {
          "base_uri": "https://localhost:8080/",
          "height": 284
        },
        "outputId": "8d6a2b4b-0e64-40ea-9ba9-298a27c511b9"
      },
      "source": [
        "dftrain['deck'].hist()"
      ],
      "execution_count": 59,
      "outputs": [
        {
          "output_type": "execute_result",
          "data": {
            "text/plain": [
              "<matplotlib.axes._subplots.AxesSubplot at 0x7f0198ecf240>"
            ]
          },
          "metadata": {
            "tags": []
          },
          "execution_count": 59
        },
        {
          "output_type": "display_data",
          "data": {
            "image/png": "[encoded data removed]",
            "text/plain": [
              "<Figure size 432x288 with 1 Axes>"
            ]
          },
          "metadata": {
            "tags": [],
            "needs_background": "light"
          }
        }
      ]
    },
    {
      "cell_type": "code",
      "metadata": {
        "id": "Hip1E1SgKfRM",
        "colab_type": "code",
        "colab": {
          "base_uri": "https://localhost:8080/",
          "height": 282
        },
        "outputId": "d83cb479-4fcd-428a-c49f-7e1c1dc89fa6"
      },
      "source": [
        "dftrain['parch'].hist()"
      ],
      "execution_count": 60,
      "outputs": [
        {
          "output_type": "execute_result",
          "data": {
            "text/plain": [
              "<matplotlib.axes._subplots.AxesSubplot at 0x7f0198e0a5f8>"
            ]
          },
          "metadata": {
            "tags": []
          },
          "execution_count": 60
        },
        {
          "output_type": "display_data",
          "data": {
            "image/png": "[encoded data removed]",
            "text/plain": [
              "<Figure size 432x288 with 1 Axes>"
            ]
          },
          "metadata": {
            "tags": [],
            "needs_background": "light"
          }
        }
      ]
    },
    {
      "cell_type": "code",
      "metadata": {
        "id": "sKVqMRAWY2SE",
        "colab_type": "code",
        "colab": {}
      },
      "source": [
        "# without fixes to column feature\n",
        "feat_col = []\n",
        "\n",
        "feat_col.append(tf.feature_column.numeric_column('fare', dtype=tf.float32))\n",
        "\n",
        "age_col = tf.feature_column.numeric_column('age', dtype=tf.float64)\n",
        "age_bucket = tf.feature_column.bucketized_column(age_col, boundaries=[18,25,35,45,60])\n",
        "feat_col.append(tf.feature_column.indicator_column(age_bucket))\n",
        "\n",
        "obj = ['sex', 'class', 'deck', 'embark_town', 'alone','n_siblings_spouses', 'parch']\n",
        "for name in obj:\n",
        "  vocab = dftrain[name].unique()\n",
        "  name_col = tf.feature_column.categorical_column_with_vocabulary_list(name, vocab)\n",
        "  feat_col.append(tf.feature_column.indicator_column(name_col))"
      ],
      "execution_count": 24,
      "outputs": []
    },
    {
      "cell_type": "code",
      "metadata": {
        "id": "r9amDQ-qZQeP",
        "colab_type": "code",
        "colab": {
          "base_uri": "https://localhost:8080/",
          "height": 54
        },
        "outputId": "f49d331e-4915-43e2-f3cd-ac4d8793d4a8"
      },
      "source": [
        "\n",
        "# with fixes to column features\n",
        "# embed deck and parch feature\n",
        "# cross sex with age \n",
        "\n",
        "feat_col = []\n",
        "\n",
        "feat_col.append(tf.feature_column.numeric_column('fare', dtype=tf.float32))\n",
        "\n",
        "age_col = tf.feature_column.numeric_column('age', dtype=tf.float32)\n",
        "age_bucket = tf.feature_column.bucketized_column(age_col, boundaries=[18,25,35,45,60])\n",
        "feat_col.append(age_bucket)\n",
        "\n",
        "\n",
        "lis = ['parch', 'deck']\n",
        "for name in lis:\n",
        "  vocab = dftrain[name].unique()\n",
        "  p_col = tf.feature_column.categorical_column_with_vocabulary_list(name, vocab)\n",
        "  p_embed = tf.feature_column.embedding_column(p_col, dimension=2)\n",
        "  feat_col.append(p_embed)\n",
        "\n",
        "lis1 = ['embark_town', 'alone','n_siblings_spouses', 'class']\n",
        "\n",
        "for name in lis1:\n",
        "  vocab = dftrain[name].unique()\n",
        "  p_col = tf.feature_column.categorical_column_with_vocabulary_list(name, vocab)\n",
        "  feat_col.append(tf.feature_column.indicator_column(p_col))\n",
        "\n",
        "\n",
        "# 1 - exp(-k*(k-1)/2/hash_bucket_size) cross equation, k = categories\n",
        "\n",
        "sex_vocab = dftrain['sex'].unique()\n",
        "sex_col = tf.feature_column.categorical_column_with_vocabulary_list('sex', sex_vocab)\n",
        "\n",
        "\n",
        "cross_feat = tf.feature_column.crossed_column(keys =[sex_col, age_bucket], hash_bucket_size= 5)\n",
        "print(cross_feat)\n",
        "\n",
        "\n",
        "vocab = dftrain['sex'].unique()\n",
        "Sex = tf.feature_column.categorical_column_with_vocabulary_list('sex', vocab)\n",
        "\n",
        "crossed_feature = tf.feature_column.crossed_column([age_bucket, Sex], hash_bucket_size=500)\n",
        "crossed_feature = tf.feature_column.indicator_column(crossed_feature)\n",
        "feat_col.append(crossed_feature)"
      ],
      "execution_count": 73,
      "outputs": [
        {
          "output_type": "stream",
          "text": [
            "CrossedColumn(keys=(VocabularyListCategoricalColumn(key='sex', vocabulary_list=('male', 'female'), dtype=tf.string, default_value=-1, num_oov_buckets=0), BucketizedColumn(source_column=NumericColumn(key='age', shape=(1,), default_value=None, dtype=tf.float32, normalizer_fn=None), boundaries=(18, 25, 35, 45, 60))), hash_bucket_size=5, hash_key=None)\n"
          ],
          "name": "stdout"
        }
      ]
    },
    {
      "cell_type": "code",
      "metadata": {
        "id": "5wLIzg0aXL78",
        "colab_type": "code",
        "colab": {}
      },
      "source": [
        "def make_input(df_data, df_label, epochs = 3, shuffle=True, batch_size = 5):\n",
        "  def input_fn():\n",
        "    ds = tf.data.Dataset.from_tensor_slices((dict(df_data), df_label))\n",
        "    if shuffle:\n",
        "      ds.shuffle(1000)\n",
        "    return ds.batch(batch_size).repeat(epochs)\n",
        "  return input_fn\n"
      ],
      "execution_count": 74,
      "outputs": []
    },
    {
      "cell_type": "code",
      "metadata": {
        "id": "KKXWVneUZOxk",
        "colab_type": "code",
        "colab": {}
      },
      "source": [
        "train_input = make_input(dftrain, y_train)\n",
        "eval_input = make_input(dfeval, y_eval, shuffle=False)"
      ],
      "execution_count": 75,
      "outputs": []
    },
    {
      "cell_type": "code",
      "metadata": {
        "id": "vWB9gLpXYVSB",
        "colab_type": "code",
        "colab": {
          "base_uri": "https://localhost:8080/",
          "height": 190
        },
        "outputId": "8d0ad990-1b09-4060-95a2-9ae4b1f91313"
      },
      "source": [
        "classifier = tf.estimator.LinearClassifier( feature_columns=feat_col, n_classes=2)"
      ],
      "execution_count": 76,
      "outputs": [
        {
          "output_type": "stream",
          "text": [
            "INFO:tensorflow:Using default config.\n",
            "WARNING:tensorflow:Using temporary folder as model directory: /tmp/tmpz_364r83\n",
            "INFO:tensorflow:Using config: {'_model_dir': '/tmp/tmpz_364r83', '_tf_random_seed': None, '_save_summary_steps': 100, '_save_checkpoints_steps': None, '_save_checkpoints_secs': 600, '_session_config': allow_soft_placement: true\n",
            "graph_options {\n",
            "  rewrite_options {\n",
            "    meta_optimizer_iterations: ONE\n",
            "  }\n",
            "}\n",
            ", '_keep_checkpoint_max': 5, '_keep_checkpoint_every_n_hours': 10000, '_log_step_count_steps': 100, '_train_distribute': None, '_device_fn': None, '_protocol': None, '_eval_distribute': None, '_experimental_distribute': None, '_experimental_max_worker_delay_secs': None, '_session_creation_timeout_secs': 7200, '_service': None, '_cluster_spec': ClusterSpec({}), '_task_type': 'worker', '_task_id': 0, '_global_id_in_cluster': 0, '_master': '', '_evaluation_master': '', '_is_chief': True, '_num_ps_replicas': 0, '_num_worker_replicas': 1}\n"
          ],
          "name": "stdout"
        }
      ]
    },
    {
      "cell_type": "code",
      "metadata": {
        "id": "FfeSiW0JHIPv",
        "colab_type": "code",
        "colab": {
          "base_uri": "https://localhost:8080/",
          "height": 190
        },
        "outputId": "bc43c9da-4dbc-4595-a9c3-63414d980a02"
      },
      "source": [
        "feat_col"
      ],
      "execution_count": 77,
      "outputs": [
        {
          "output_type": "execute_result",
          "data": {
            "text/plain": [
              "[NumericColumn(key='fare', shape=(1,), default_value=None, dtype=tf.float32, normalizer_fn=None),\n",
              " BucketizedColumn(source_column=NumericColumn(key='age', shape=(1,), default_value=None, dtype=tf.float32, normalizer_fn=None), boundaries=(18, 25, 35, 45, 60)),\n",
              " EmbeddingColumn(categorical_column=VocabularyListCategoricalColumn(key='parch', vocabulary_list=(0, 1, 2, 5, 3, 4), dtype=tf.int64, default_value=-1, num_oov_buckets=0), dimension=2, combiner='mean', initializer=<tensorflow.python.ops.init_ops.TruncatedNormal object at 0x7f0198e60588>, ckpt_to_load_from=None, tensor_name_in_ckpt=None, max_norm=None, trainable=True, use_safe_embedding_lookup=True),\n",
              " EmbeddingColumn(categorical_column=VocabularyListCategoricalColumn(key='deck', vocabulary_list=('unknown', 'C', 'G', 'A', 'B', 'D', 'F', 'E'), dtype=tf.string, default_value=-1, num_oov_buckets=0), dimension=2, combiner='mean', initializer=<tensorflow.python.ops.init_ops.TruncatedNormal object at 0x7f0196f86b38>, ckpt_to_load_from=None, tensor_name_in_ckpt=None, max_norm=None, trainable=True, use_safe_embedding_lookup=True),\n",
              " IndicatorColumn(categorical_column=VocabularyListCategoricalColumn(key='embark_town', vocabulary_list=('Southampton', 'Cherbourg', 'Queenstown', 'unknown'), dtype=tf.string, default_value=-1, num_oov_buckets=0)),\n",
              " IndicatorColumn(categorical_column=VocabularyListCategoricalColumn(key='alone', vocabulary_list=('n', 'y'), dtype=tf.string, default_value=-1, num_oov_buckets=0)),\n",
              " IndicatorColumn(categorical_column=VocabularyListCategoricalColumn(key='n_siblings_spouses', vocabulary_list=(1, 0, 3, 4, 2, 5, 8), dtype=tf.int64, default_value=-1, num_oov_buckets=0)),\n",
              " IndicatorColumn(categorical_column=VocabularyListCategoricalColumn(key='class', vocabulary_list=('Third', 'First', 'Second'), dtype=tf.string, default_value=-1, num_oov_buckets=0)),\n",
              " IndicatorColumn(categorical_column=CrossedColumn(keys=(BucketizedColumn(source_column=NumericColumn(key='age', shape=(1,), default_value=None, dtype=tf.float32, normalizer_fn=None), boundaries=(18, 25, 35, 45, 60)), VocabularyListCategoricalColumn(key='sex', vocabulary_list=('male', 'female'), dtype=tf.string, default_value=-1, num_oov_buckets=0)), hash_bucket_size=500, hash_key=None))]"
            ]
          },
          "metadata": {
            "tags": []
          },
          "execution_count": 77
        }
      ]
    },
    {
      "cell_type": "code",
      "metadata": {
        "id": "MXIQFKUZYWaH",
        "colab_type": "code",
        "colab": {
          "base_uri": "https://localhost:8080/",
          "height": 496
        },
        "outputId": "1f71b995-9422-4b93-8873-b5657a9cdc28"
      },
      "source": [
        "classifier.train(train_input)"
      ],
      "execution_count": 78,
      "outputs": [
        {
          "output_type": "stream",
          "text": [
            "INFO:tensorflow:Calling model_fn.\n",
            "WARNING:tensorflow:Layer linear/linear_model is casting an input tensor from dtype float64 to the layer's dtype of float32, which is new behavior in TensorFlow 2.  The layer has dtype float32 because it's dtype defaults to floatx.\n",
            "\n",
            "If you intended to run this layer in float32, you can safely ignore this warning. If in doubt, this warning is likely only an issue if you are porting a TensorFlow 1.X model to TensorFlow 2.\n",
            "\n",
            "To change all layers to have dtype float64 by default, call `tf.keras.backend.set_floatx('float64')`. To change just this layer, pass dtype='float64' to the layer constructor. If you are the author of this layer, you can disable autocasting by passing autocast=False to the base Layer constructor.\n",
            "\n",
            "INFO:tensorflow:Done calling model_fn.\n",
            "INFO:tensorflow:Create CheckpointSaverHook.\n",
            "INFO:tensorflow:Graph was finalized.\n",
            "INFO:tensorflow:Running local_init_op.\n",
            "INFO:tensorflow:Done running local_init_op.\n",
            "INFO:tensorflow:Calling checkpoint listeners before saving checkpoint 0...\n",
            "INFO:tensorflow:Saving checkpoints for 0 into /tmp/tmpz_364r83/model.ckpt.\n",
            "INFO:tensorflow:Calling checkpoint listeners after saving checkpoint 0...\n",
            "INFO:tensorflow:loss = 0.6931472, step = 0\n",
            "INFO:tensorflow:global_step/sec: 353.943\n",
            "INFO:tensorflow:loss = 0.5711294, step = 100 (0.286 sec)\n",
            "INFO:tensorflow:global_step/sec: 835.807\n",
            "INFO:tensorflow:loss = 0.29202408, step = 200 (0.120 sec)\n",
            "INFO:tensorflow:global_step/sec: 790.602\n",
            "INFO:tensorflow:loss = 1.196364, step = 300 (0.126 sec)\n",
            "INFO:tensorflow:Calling checkpoint listeners before saving checkpoint 378...\n",
            "INFO:tensorflow:Saving checkpoints for 378 into /tmp/tmpz_364r83/model.ckpt.\n",
            "INFO:tensorflow:Calling checkpoint listeners after saving checkpoint 378...\n",
            "INFO:tensorflow:Loss for final step: 0.5504834.\n"
          ],
          "name": "stdout"
        },
        {
          "output_type": "execute_result",
          "data": {
            "text/plain": [
              "<tensorflow_estimator.python.estimator.canned.linear.LinearClassifierV2 at 0x7f0196f2d128>"
            ]
          },
          "metadata": {
            "tags": []
          },
          "execution_count": 78
        }
      ]
    },
    {
      "cell_type": "code",
      "metadata": {
        "id": "-94pTCgBbc1Q",
        "colab_type": "code",
        "colab": {
          "base_uri": "https://localhost:8080/",
          "height": 326
        },
        "outputId": "c7e9b0d2-3f0c-40a3-f6d6-1c546cdd7fec"
      },
      "source": [
        "result = classifier.evaluate(eval_input)"
      ],
      "execution_count": 79,
      "outputs": [
        {
          "output_type": "stream",
          "text": [
            "INFO:tensorflow:Calling model_fn.\n",
            "WARNING:tensorflow:Layer linear/linear_model is casting an input tensor from dtype float64 to the layer's dtype of float32, which is new behavior in TensorFlow 2.  The layer has dtype float32 because it's dtype defaults to floatx.\n",
            "\n",
            "If you intended to run this layer in float32, you can safely ignore this warning. If in doubt, this warning is likely only an issue if you are porting a TensorFlow 1.X model to TensorFlow 2.\n",
            "\n",
            "To change all layers to have dtype float64 by default, call `tf.keras.backend.set_floatx('float64')`. To change just this layer, pass dtype='float64' to the layer constructor. If you are the author of this layer, you can disable autocasting by passing autocast=False to the base Layer constructor.\n",
            "\n",
            "INFO:tensorflow:Done calling model_fn.\n",
            "INFO:tensorflow:Starting evaluation at 2020-06-22T22:53:48Z\n",
            "INFO:tensorflow:Graph was finalized.\n",
            "INFO:tensorflow:Restoring parameters from /tmp/tmpz_364r83/model.ckpt-378\n",
            "INFO:tensorflow:Running local_init_op.\n",
            "INFO:tensorflow:Done running local_init_op.\n",
            "INFO:tensorflow:Inference Time : 0.92888s\n",
            "INFO:tensorflow:Finished evaluation at 2020-06-22-22:53:49\n",
            "INFO:tensorflow:Saving dict for global step 378: accuracy = 0.79924244, accuracy_baseline = 0.625, auc = 0.83578205, auc_precision_recall = 0.7905945, average_loss = 0.47509935, global_step = 378, label/mean = 0.375, loss = 0.47499022, precision = 0.7395833, prediction/mean = 0.36511558, recall = 0.7171717\n",
            "INFO:tensorflow:Saving 'checkpoint_path' summary for global step 378: /tmp/tmpz_364r83/model.ckpt-378\n"
          ],
          "name": "stdout"
        }
      ]
    },
    {
      "cell_type": "code",
      "metadata": {
        "id": "qNEP_SzObsmO",
        "colab_type": "code",
        "colab": {
          "base_uri": "https://localhost:8080/",
          "height": 204
        },
        "outputId": "b9f11b85-ddac-49bb-800e-4a2b0a6e05ee"
      },
      "source": [
        "result"
      ],
      "execution_count": 80,
      "outputs": [
        {
          "output_type": "execute_result",
          "data": {
            "text/plain": [
              "{'accuracy': 0.79924244,\n",
              " 'accuracy_baseline': 0.625,\n",
              " 'auc': 0.83578205,\n",
              " 'auc_precision_recall': 0.7905945,\n",
              " 'average_loss': 0.47509935,\n",
              " 'global_step': 378,\n",
              " 'label/mean': 0.375,\n",
              " 'loss': 0.47499022,\n",
              " 'precision': 0.7395833,\n",
              " 'prediction/mean': 0.36511558,\n",
              " 'recall': 0.7171717}"
            ]
          },
          "metadata": {
            "tags": []
          },
          "execution_count": 80
        }
      ]
    },
    {
      "cell_type": "code",
      "metadata": {
        "id": "4lCkovbab1bW",
        "colab_type": "code",
        "colab": {}
      },
      "source": [
        ""
      ],
      "execution_count": null,
      "outputs": []
    }
  ]
}