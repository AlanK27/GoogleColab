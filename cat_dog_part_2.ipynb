{
  "nbformat": 4,
  "nbformat_minor": 0,
  "metadata": {
    "colab": {
      "name": "cat_dog_part_2.ipynb",
      "provenance": [],
      "collapsed_sections": [],
      "mount_file_id": "1lyh_CYqxupYk3SV0dbbjbahshInWKvkh",
      "authorship_tag": "ABX9TyOVqbAYm6/A5Hlpafi/EWVb"
    },
    "kernelspec": {
      "name": "python3",
      "display_name": "Python 3"
    },
    "accelerator": "GPU"
  },
  "cells": [
    {
      "cell_type": "code",
      "metadata": {
        "id": "S0l-0PilY4tz",
        "colab_type": "code",
        "colab": {}
      },
      "source": [
        "import cv2\n",
        "import io\n",
        "import matplotlib.pyplot as plt\n",
        "import numpy as np\n",
        "import pickle\n",
        "import tensorflow as tf\n",
        "import tensorflow.keras as keras\n",
        "from tensorflow.keras.datasets import cifar10\n",
        "from tensorflow.keras.preprocessing.image import ImageDataGenerator\n",
        "from tensorflow.keras.models import Sequential\n",
        "from tensorflow.keras.layers import Dense, Dropout, Activation, Flatten\n",
        "from tensorflow.keras.layers import Conv2D, MaxPooling2D\n",
        "from tensorflow.keras.callbacks import TensorBoard\n",
        "import time"
      ],
      "execution_count": null,
      "outputs": []
    },
    {
      "cell_type": "code",
      "metadata": {
        "id": "lBAdOem3Z9wS",
        "colab_type": "code",
        "colab": {}
      },
      "source": [
        "with open('/content/drive/My Drive/datasets/cat_dog_training/X.pickle', 'rb') as out:\n",
        "  X = pickle.load(out)\n",
        "\n",
        "with open('/content/drive/My Drive/datasets/cat_dog_training/y.pickle', 'rb') as out:\n",
        "  y = pickle.load(out)"
      ],
      "execution_count": null,
      "outputs": []
    },
    {
      "cell_type": "code",
      "metadata": {
        "id": "OP1Ony72Z_je",
        "colab_type": "code",
        "colab": {}
      },
      "source": [
        "X = X/255\n",
        "X = np.array(X)\n",
        "y = np.array(y)\n",
        "# pixel data, max value is 255"
      ],
      "execution_count": null,
      "outputs": []
    },
    {
      "cell_type": "code",
      "metadata": {
        "id": "2ZlmegVeZ_hT",
        "colab_type": "code",
        "colab": {}
      },
      "source": [
        "model = Sequential()\n",
        "\n",
        "model.add(Conv2D(256, (6,6), input_shape = X.shape[1:]))\n",
        "model.add(Activation('relu'))\n",
        "model.add(MaxPooling2D(pool_size = (4,4)))\n",
        "\n",
        "model.add(Conv2D(256, (6,6), input_shape = X.shape[1:]))\n",
        "model.add(Activation('relu'))\n",
        "model.add(MaxPooling2D(pool_size= (3,3)))\n",
        "\n",
        "model.add(Flatten())\n",
        "model.add(Dense(64))\n",
        "model.add(Activation('relu'))\n",
        "\n",
        "model.add(Dense(1))\n",
        "model.add(Activation('sigmoid'))\n",
        "\n",
        "NAME = 'cat_dog-62x2-CNN'\n",
        "tensorboard = TensorBoard(log_dir = f'/content/drive/My Drive/datasets/cat_dog_training/yessssssss')\n",
        "\n",
        "model.compile(loss='binary_crossentropy', \n",
        "              optimizer='adam',\n",
        "              metrics=['accuracy']\n",
        ")"
      ],
      "execution_count": null,
      "outputs": []
    },
    {
      "cell_type": "code",
      "metadata": {
        "id": "9ARWyKZoZ_ec",
        "colab_type": "code",
        "colab": {
          "base_uri": "https://localhost:8080/",
          "height": 136
        },
        "outputId": "de40102a-4002-499f-82e8-b2c4825dcf51"
      },
      "source": [
        "model.fit(X[:200], y[:200], batch_size=32, epochs=3, validation_split=0.3, callbacks=[tensorboard])"
      ],
      "execution_count": null,
      "outputs": [
        {
          "output_type": "stream",
          "text": [
            "Epoch 1/3\n",
            "5/5 [==============================] - 3s 699ms/step - loss: 1.0754 - accuracy: 0.5357 - val_loss: 0.6939 - val_accuracy: 0.5500\n",
            "Epoch 2/3\n",
            "5/5 [==============================] - 1s 273ms/step - loss: 0.7001 - accuracy: 0.4357 - val_loss: 0.6940 - val_accuracy: 0.4500\n",
            "Epoch 3/3\n",
            "5/5 [==============================] - 1s 271ms/step - loss: 0.6907 - accuracy: 0.5500 - val_loss: 0.6943 - val_accuracy: 0.4500\n"
          ],
          "name": "stdout"
        },
        {
          "output_type": "execute_result",
          "data": {
            "text/plain": [
              "<tensorflow.python.keras.callbacks.History at 0x7fe5ef2aada0>"
            ]
          },
          "metadata": {
            "tags": []
          },
          "execution_count": 9
        }
      ]
    },
    {
      "cell_type": "code",
      "metadata": {
        "id": "pEgXBeGHZ_S7",
        "colab_type": "code",
        "colab": {}
      },
      "source": [
        "model.save('example.model')"
      ],
      "execution_count": null,
      "outputs": []
    },
    {
      "cell_type": "code",
      "metadata": {
        "id": "rClhXt2PZ_QL",
        "colab_type": "code",
        "colab": {}
      },
      "source": [
        "%load_ext tensorboard"
      ],
      "execution_count": null,
      "outputs": []
    },
    {
      "cell_type": "code",
      "metadata": {
        "id": "0aAU4tmL6WUF",
        "colab_type": "code",
        "colab": {}
      },
      "source": [
        "%tensorboard --logdir /content/drive/My\\ Drive/datasets/cat_dog_training/yessssssss"
      ],
      "execution_count": null,
      "outputs": []
    },
    {
      "cell_type": "code",
      "metadata": {
        "id": "L82F9p9c6WMr",
        "colab_type": "code",
        "colab": {}
      },
      "source": [
        ""
      ],
      "execution_count": null,
      "outputs": []
    },
    {
      "cell_type": "code",
      "metadata": {
        "id": "fspl58Mb6v6b",
        "colab_type": "code",
        "colab": {}
      },
      "source": [
        "model = tf.keras.models.load_model('example.model')"
      ],
      "execution_count": null,
      "outputs": []
    },
    {
      "cell_type": "code",
      "metadata": {
        "id": "6NClOuXu67pk",
        "colab_type": "code",
        "colab": {}
      },
      "source": [
        "def prepare(filepath):\n",
        "    IMG_SIZE = 150  # 50 in txt-based\n",
        "    img_array = cv2.imread(filepath, cv2.IMREAD_GRAYSCALE)  # read in the image, convert to grayscale\n",
        "    new_array = cv2.resize(img_array, (IMG_SIZE, IMG_SIZE))  # resize image to match model's expected sizing\n",
        "    return new_array.reshape(-1, IMG_SIZE, IMG_SIZE, 1)  # return the image with shaping that TF wants."
      ],
      "execution_count": null,
      "outputs": []
    },
    {
      "cell_type": "code",
      "metadata": {
        "id": "foMVJfyx67mE",
        "colab_type": "code",
        "colab": {}
      },
      "source": [
        "oreo = prepare('/content/drive/My Drive/datasets/cat_dog_training/dog.jpg')\n",
        "\n",
        "prediction = model.predict([oreo])"
      ],
      "execution_count": null,
      "outputs": []
    },
    {
      "cell_type": "code",
      "metadata": {
        "id": "r6Vo1hCA67j7",
        "colab_type": "code",
        "colab": {
          "base_uri": "https://localhost:8080/",
          "height": 34
        },
        "outputId": "c5d2375b-779f-4869-f0a3-438418242221"
      },
      "source": [
        "prediction[0]"
      ],
      "execution_count": null,
      "outputs": [
        {
          "output_type": "execute_result",
          "data": {
            "text/plain": [
              "array([3.5496515e-07], dtype=float32)"
            ]
          },
          "metadata": {
            "tags": []
          },
          "execution_count": 15
        }
      ]
    },
    {
      "cell_type": "code",
      "metadata": {
        "id": "oLazdzN167f4",
        "colab_type": "code",
        "colab": {
          "base_uri": "https://localhost:8080/",
          "height": 34
        },
        "outputId": "62c5212d-5d1c-4568-c856-124480124fee"
      },
      "source": [
        "CATEGORIES = [\"Dog\", \"Cat\"]\n",
        "print(CATEGORIES[int(prediction[0][0])])"
      ],
      "execution_count": null,
      "outputs": [
        {
          "output_type": "stream",
          "text": [
            "Dog\n"
          ],
          "name": "stdout"
        }
      ]
    },
    {
      "cell_type": "code",
      "metadata": {
        "id": "i70Ght9e67cu",
        "colab_type": "code",
        "colab": {}
      },
      "source": [
        ""
      ],
      "execution_count": null,
      "outputs": []
    },
    {
      "cell_type": "code",
      "metadata": {
        "id": "d6qgNxlNZ_OG",
        "colab_type": "code",
        "colab": {}
      },
      "source": [
        "# logs_base_dir = '/content/drive/My Drive/datasets/cat_dog_training/'\n",
        "# %tensorboard --logdir /content/drive/My\\ Drive/datasets/cat_dog_training/cat_dog-62x2-CNN"
      ],
      "execution_count": null,
      "outputs": []
    },
    {
      "cell_type": "code",
      "metadata": {
        "id": "zqC1JmspZ_LT",
        "colab_type": "code",
        "colab": {}
      },
      "source": [
        "# logdir = '/content/drive/My\\ Drive/datasets/cat_dog_training/'\n",
        "# tensorboard_callback = tf.keras.callbacks.TensorBoard(logdir, histogram_freq=1)"
      ],
      "execution_count": null,
      "outputs": []
    },
    {
      "cell_type": "code",
      "metadata": {
        "id": "lt94XJUgZ_IU",
        "colab_type": "code",
        "colab": {}
      },
      "source": [
        "# LOG_DIR = '/content/drive/My\\ Drive/datasets/cat_dog_training/'\n",
        "# get_ipython().system_raw(\n",
        "#     'tensorboard --logdir {} --host 0.0.0.0 --port 6006 &'\n",
        "#     .format(LOG_DIR)\n",
        "# )"
      ],
      "execution_count": null,
      "outputs": []
    },
    {
      "cell_type": "code",
      "metadata": {
        "id": "pF1LqesDZ_Fe",
        "colab_type": "code",
        "colab": {}
      },
      "source": [
        ""
      ],
      "execution_count": null,
      "outputs": []
    },
    {
      "cell_type": "code",
      "metadata": {
        "id": "WprcAcrkZ_C0",
        "colab_type": "code",
        "colab": {}
      },
      "source": [
        ""
      ],
      "execution_count": null,
      "outputs": []
    },
    {
      "cell_type": "code",
      "metadata": {
        "id": "hBfBi3SgZ_AB",
        "colab_type": "code",
        "colab": {}
      },
      "source": [
        ""
      ],
      "execution_count": null,
      "outputs": []
    },
    {
      "cell_type": "code",
      "metadata": {
        "id": "fxYYzShaZ-6_",
        "colab_type": "code",
        "colab": {}
      },
      "source": [
        "dense_layers = [0,1,2]\n",
        "layer_sizes = [32, 64, 128]\n",
        "conv_layers = [1,2,3]\n",
        "\n",
        "# for dense_layer in dense_layers:\n",
        "#   for layer_size in layer_sizes:\n",
        "#     for conv_layer in conv_layers:\n",
        "#       print(f'{conv_layer}-conv-{layer_size}-node-{dense_layer}-dense')\n",
        "\n",
        "for dense_layer in dense_layers:\n",
        "  for layer_size in layer_sizes:\n",
        "    for conv_layer in conv_layers:\n",
        "      \n",
        "      model = Sequential()\n",
        "      \n",
        "      model.add(Conv2D(layer_size, (3,3), input_shape = X.shape[1:]))\n",
        "      model.add(Activation('relu'))\n",
        "      model.add(MaxPooling2D(pool_size=(2,2)))\n",
        "\n",
        "      for l in range(conv_layer -1):\n",
        "        model.add(Conv2D(layer_size, (3,3)))\n",
        "        model.add(Activation('relu'))\n",
        "        model.add(MaxPooling2D(pool_size=(2,2)))\n",
        "\n",
        "      model.add(Flatten())\n",
        "\n",
        "      for _ in range(dense_layer):\n",
        "        model.add(Dense(layer_size))\n",
        "        model.add(Activation('relu'))\n",
        "\n",
        "      model.add(Dense(1))\n",
        "      model.add(Activation('sigmoid'))\n",
        "\n",
        "      NAME = 'cat_dog-Multi'\n",
        "      log_dir = f'/content/drive/My Drive/datasets/cat_dog_training/{NAME}'\n",
        "      tensorboard = TensorBoard(log_dir = f'/content/drive/My Drive/datasets/cat_dog_training/cat_dog-Multi')\n",
        "\n",
        "      model.compile(loss='binary_crossentropy',\n",
        "                    optimizer='adam',\n",
        "                    metrics=['accuracy']\n",
        "                    )\n",
        "      \n",
        "      model.fit(X, y, batch_size=32, epochs=20, validation_split=0.3, callbacks=[tensorboard])\n",
        "\n"
      ],
      "execution_count": null,
      "outputs": []
    },
    {
      "cell_type": "code",
      "metadata": {
        "id": "OdovASSt105O",
        "colab_type": "code",
        "colab": {
          "base_uri": "https://localhost:8080/",
          "height": 34
        },
        "outputId": "70fdaa62-0df1-4704-b564-377ac3805e8a"
      },
      "source": [
        "model.save('64x10-CNN.model')"
      ],
      "execution_count": null,
      "outputs": [
        {
          "output_type": "stream",
          "text": [
            "INFO:tensorflow:Assets written to: 64x10-CNN.model/assets\n"
          ],
          "name": "stdout"
        }
      ]
    },
    {
      "cell_type": "code",
      "metadata": {
        "id": "OuYAWy2xZ-4K",
        "colab_type": "code",
        "colab": {}
      },
      "source": [
        "%load_ext tensorboard"
      ],
      "execution_count": null,
      "outputs": []
    },
    {
      "cell_type": "code",
      "metadata": {
        "id": "IxuH46-5n_SC",
        "colab_type": "code",
        "colab": {}
      },
      "source": [
        ""
      ],
      "execution_count": null,
      "outputs": []
    },
    {
      "cell_type": "code",
      "metadata": {
        "id": "30jtwj8hn7kQ",
        "colab_type": "code",
        "colab": {}
      },
      "source": [
        "logs_base_dir = '/content/drive/My Drive/datasets/cat_dog_training/cat_dog-Multi'\n",
        "%tensorboard --logdir /content/drive/My\\ Drive/datasets/cat_dog_training/cat_dog-Multi"
      ],
      "execution_count": null,
      "outputs": []
    },
    {
      "cell_type": "code",
      "metadata": {
        "id": "uKxkklS0oV98",
        "colab_type": "code",
        "colab": {}
      },
      "source": [
        ""
      ],
      "execution_count": null,
      "outputs": []
    },
    {
      "cell_type": "code",
      "metadata": {
        "id": "_xOgf5aTqB2U",
        "colab_type": "code",
        "colab": {}
      },
      "source": [
        ""
      ],
      "execution_count": null,
      "outputs": []
    },
    {
      "cell_type": "code",
      "metadata": {
        "id": "BsevPEZu1Z-h",
        "colab_type": "code",
        "colab": {}
      },
      "source": [
        ""
      ],
      "execution_count": null,
      "outputs": []
    },
    {
      "cell_type": "code",
      "metadata": {
        "id": "AtJ45SXs1Z7l",
        "colab_type": "code",
        "colab": {}
      },
      "source": [
        "model = tf.keras.models.load_model('64x10-CNN.model')"
      ],
      "execution_count": null,
      "outputs": []
    },
    {
      "cell_type": "code",
      "metadata": {
        "id": "SaVoFqeo1jN5",
        "colab_type": "code",
        "colab": {}
      },
      "source": [
        "def prepare(filepath):\n",
        "    IMG_SIZE = 150  # 50 in txt-based\n",
        "    img_array = cv2.imread(filepath, cv2.IMREAD_GRAYSCALE)  # read in the image, convert to grayscale\n",
        "    new_array = cv2.resize(img_array, (IMG_SIZE, IMG_SIZE))  # resize image to match model's expected sizing\n",
        "    return new_array.reshape(-1, IMG_SIZE, IMG_SIZE, 1)  # return the image with shaping that TF wants."
      ],
      "execution_count": null,
      "outputs": []
    },
    {
      "cell_type": "code",
      "metadata": {
        "id": "lpYe3XkTQox2",
        "colab_type": "code",
        "colab": {}
      },
      "source": [
        "oreo = prepare('/content/drive/My Drive/datasets/cat_dog_training/dog.jpg')\n",
        "\n",
        "prediction = model.predict([oreo])"
      ],
      "execution_count": null,
      "outputs": []
    },
    {
      "cell_type": "code",
      "metadata": {
        "id": "3G4QGVgrQq78",
        "colab_type": "code",
        "colab": {
          "base_uri": "https://localhost:8080/",
          "height": 34
        },
        "outputId": "73607e43-0d6f-4670-947c-2fdfdfa44cd3"
      },
      "source": [
        "prediction[0]"
      ],
      "execution_count": null,
      "outputs": [
        {
          "output_type": "execute_result",
          "data": {
            "text/plain": [
              "array([0.], dtype=float32)"
            ]
          },
          "metadata": {
            "tags": []
          },
          "execution_count": 31
        }
      ]
    },
    {
      "cell_type": "code",
      "metadata": {
        "id": "FjmHU21RQq0e",
        "colab_type": "code",
        "colab": {
          "base_uri": "https://localhost:8080/",
          "height": 34
        },
        "outputId": "599023b9-2bb2-4d85-9fd1-11148cbf09ad"
      },
      "source": [
        "CATEGORIES = [\"Dog\", \"Cat\"]\n",
        "print(CATEGORIES[int(prediction[0][0])])"
      ],
      "execution_count": null,
      "outputs": [
        {
          "output_type": "stream",
          "text": [
            "Dog\n"
          ],
          "name": "stdout"
        }
      ]
    },
    {
      "cell_type": "code",
      "metadata": {
        "id": "3lofp1WeQuBZ",
        "colab_type": "code",
        "colab": {}
      },
      "source": [
        ""
      ],
      "execution_count": null,
      "outputs": []
    }
  ]
}