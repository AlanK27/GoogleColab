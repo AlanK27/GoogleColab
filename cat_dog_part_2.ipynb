{
  "nbformat": 4,
  "nbformat_minor": 0,
  "metadata": {
    "colab": {
      "name": "cat_dog_part_2.ipynb",
      "provenance": [],
      "collapsed_sections": [],
      "mount_file_id": "1lyh_CYqxupYk3SV0dbbjbahshInWKvkh",
      "authorship_tag": "ABX9TyMr28pgiMPeKfmID30SjWNm"
    },
    "kernelspec": {
      "name": "python3",
      "display_name": "Python 3"
    },
    "accelerator": "GPU"
  },
  "cells": [
    {
      "cell_type": "code",
      "metadata": {
        "id": "S0l-0PilY4tz",
        "colab_type": "code",
        "colab": {}
      },
      "source": [
        "import cv2\n",
        "import io\n",
        "import matplotlib.pyplot as plt\n",
        "import numpy as np\n",
        "import pickle\n",
        "import tensorflow as tf\n",
        "import tensorflow.keras as keras\n",
        "from tensorflow.keras.datasets import cifar10\n",
        "from tensorflow.keras.preprocessing.image import ImageDataGenerator\n",
        "from tensorflow.keras.models import Sequential\n",
        "from tensorflow.keras.layers import Dense, Dropout, Activation, Flatten\n",
        "from tensorflow.keras.layers import Conv2D, MaxPooling2D\n",
        "from tensorflow.keras.callbacks import TensorBoard\n",
        "import time"
      ],
      "execution_count": null,
      "outputs": []
    },
    {
      "cell_type": "code",
      "metadata": {
        "id": "lBAdOem3Z9wS",
        "colab_type": "code",
        "colab": {}
      },
      "source": [
        "with open('/content/drive/My Drive/datasets/cat_dog_training/X.pickle', 'rb') as out:\n",
        "  X = pickle.load(out)\n",
        "\n",
        "with open('/content/drive/My Drive/datasets/cat_dog_training/y.pickle', 'rb') as out:\n",
        "  y = pickle.load(out)"
      ],
      "execution_count": null,
      "outputs": []
    },
    {
      "cell_type": "code",
      "metadata": {
        "id": "OP1Ony72Z_je",
        "colab_type": "code",
        "colab": {}
      },
      "source": [
        "X = X/255\n",
        "X = np.array(X)\n",
        "y = np.array(y)\n",
        "# pixel data, max value is 255"
      ],
      "execution_count": null,
      "outputs": []
    },
    {
      "cell_type": "code",
      "metadata": {
        "id": "2ZlmegVeZ_hT",
        "colab_type": "code",
        "colab": {}
      },
      "source": [
        "model = Sequential()\n",
        "\n",
        "model.add(Conv2D(256, (6,6), input_shape = X.shape[1:]))\n",
        "model.add(Activation('relu'))\n",
        "model.add(MaxPooling2D(pool_size = (4,4)))\n",
        "\n",
        "model.add(Conv2D(256, (6,6), input_shape = X.shape[1:]))\n",
        "model.add(Activation('relu'))\n",
        "model.add(MaxPooling2D(pool_size= (3,3)))\n",
        "\n",
        "model.add(Flatten())\n",
        "model.add(Dense(64))\n",
        "model.add(Activation('relu'))\n",
        "\n",
        "model.add(Dense(1))\n",
        "model.add(Activation('sigmoid'))\n",
        "\n",
        "NAME = 'cat_dog-62x2-CNN'\n",
        "tensorboard = TensorBoard(log_dir = f'/content/drive/My Drive/datasets/cat_dog_training/{NAME}')\n",
        "\n",
        "model.compile(loss='binary_crossentropy', \n",
        "              optimizer='adam',\n",
        "              metrics=['accuracy']\n",
        ")"
      ],
      "execution_count": null,
      "outputs": []
    },
    {
      "cell_type": "code",
      "metadata": {
        "id": "jcGoP3rZkqIo",
        "colab_type": "code",
        "colab": {}
      },
      "source": [
        ""
      ],
      "execution_count": null,
      "outputs": []
    },
    {
      "cell_type": "code",
      "metadata": {
        "id": "9ARWyKZoZ_ec",
        "colab_type": "code",
        "colab": {
          "base_uri": "https://localhost:8080/",
          "height": 136
        },
        "outputId": "089515e0-4ad8-4821-cdeb-331e326f6903"
      },
      "source": [
        "model.fit(X[:200], y[:200], batch_size=32, epochs=3, validation_split=0.3, callbacks=[tensorboard])"
      ],
      "execution_count": null,
      "outputs": [
        {
          "output_type": "stream",
          "text": [
            "Epoch 1/3\n",
            "5/5 [==============================] - 38s 8s/step - loss: 1.1585 - accuracy: 0.4786 - val_loss: 0.7010 - val_accuracy: 0.4500\n",
            "Epoch 2/3\n",
            "5/5 [==============================] - 38s 8s/step - loss: 0.6884 - accuracy: 0.5500 - val_loss: 0.6983 - val_accuracy: 0.4500\n",
            "Epoch 3/3\n",
            "5/5 [==============================] - 42s 8s/step - loss: 0.6877 - accuracy: 0.5500 - val_loss: 0.6949 - val_accuracy: 0.4500\n"
          ],
          "name": "stdout"
        },
        {
          "output_type": "execute_result",
          "data": {
            "text/plain": [
              "<tensorflow.python.keras.callbacks.History at 0x7ff61ab12160>"
            ]
          },
          "metadata": {
            "tags": []
          },
          "execution_count": 19
        }
      ]
    },
    {
      "cell_type": "code",
      "metadata": {
        "id": "9TXLIBDU4lCx",
        "colab_type": "code",
        "colab": {}
      },
      "source": [
        "log_dir = f'/content/drive/My Drive/datasets/cat_dog_training/{NAME}'"
      ],
      "execution_count": null,
      "outputs": []
    },
    {
      "cell_type": "code",
      "metadata": {
        "id": "3gVUju6wZ_bP",
        "colab_type": "code",
        "colab": {}
      },
      "source": [
        "tensorboard_callback = tf.keras.callbacks.TensorBoard(log_dir, histogram_freq=1)"
      ],
      "execution_count": null,
      "outputs": []
    },
    {
      "cell_type": "code",
      "metadata": {
        "id": "eSdalrCmZ_Yf",
        "colab_type": "code",
        "colab": {
          "base_uri": "https://localhost:8080/",
          "height": 102
        },
        "outputId": "156491be-cd1d-4660-c426-3479fc153568"
      },
      "source": [
        "%tensorboard --logdir /content/drive/My\\ Drive/datasets/cat_dog_training/cat_dog-62x2-CNN"
      ],
      "execution_count": null,
      "outputs": [
        {
          "output_type": "display_data",
          "data": {
            "text/plain": [
              "ERROR: Failed to launch TensorBoard (exited with 2).\n",
              "Contents of stderr:\n",
              "2020-06-25 01:16:47.081781: I tensorflow/stream_executor/platform/default/dso_loader.cc:44] Successfully opened dynamic library libcudart.so.10.1\n",
              "usage: tensorboard [-h] [--helpfull] {serve,dev} ...\n",
              "tensorboard: error: invalid choice: '—' (choose from 'serve', 'dev')"
            ]
          },
          "metadata": {
            "tags": []
          }
        }
      ]
    },
    {
      "cell_type": "code",
      "metadata": {
        "id": "QligHQX9Z_WN",
        "colab_type": "code",
        "colab": {
          "base_uri": "https://localhost:8080/",
          "height": 34
        },
        "outputId": "dc252525-7133-4dda-e0b2-22fd918fa526"
      },
      "source": [
        ""
      ],
      "execution_count": null,
      "outputs": [
        {
          "output_type": "execute_result",
          "data": {
            "text/plain": [
              "'/content/drive/My Drive/datasets/cat_dog_training/cat_dog-62x2-CNN'"
            ]
          },
          "metadata": {
            "tags": []
          },
          "execution_count": 12
        }
      ]
    },
    {
      "cell_type": "code",
      "metadata": {
        "id": "pEgXBeGHZ_S7",
        "colab_type": "code",
        "colab": {}
      },
      "source": [
        ""
      ],
      "execution_count": null,
      "outputs": []
    },
    {
      "cell_type": "code",
      "metadata": {
        "id": "rClhXt2PZ_QL",
        "colab_type": "code",
        "colab": {}
      },
      "source": [
        "%load_ext tensorboard"
      ],
      "execution_count": null,
      "outputs": []
    },
    {
      "cell_type": "code",
      "metadata": {
        "id": "d6qgNxlNZ_OG",
        "colab_type": "code",
        "colab": {}
      },
      "source": [
        "logs_base_dir = '/content/drive/My Drive/datasets/cat_dog_training/'\n",
        "%tensorboard --logdir /content/drive/My\\ Drive/datasets/cat_dog_training/cat_dog-62x2-CNN"
      ],
      "execution_count": null,
      "outputs": []
    },
    {
      "cell_type": "code",
      "metadata": {
        "id": "zqC1JmspZ_LT",
        "colab_type": "code",
        "colab": {}
      },
      "source": [
        "logdir = '/content/drive/My\\ Drive/datasets/cat_dog_training/'\n",
        "tensorboard_callback = tf.keras.callbacks.TensorBoard(logdir, histogram_freq=1)"
      ],
      "execution_count": null,
      "outputs": []
    },
    {
      "cell_type": "code",
      "metadata": {
        "id": "lt94XJUgZ_IU",
        "colab_type": "code",
        "colab": {}
      },
      "source": [
        "LOG_DIR = '/content/drive/My\\ Drive/datasets/cat_dog_training/'\n",
        "get_ipython().system_raw(\n",
        "    'tensorboard --logdir {} --host 0.0.0.0 --port 6006 &'\n",
        "    .format(LOG_DIR)\n",
        ")"
      ],
      "execution_count": null,
      "outputs": []
    },
    {
      "cell_type": "code",
      "metadata": {
        "id": "pF1LqesDZ_Fe",
        "colab_type": "code",
        "colab": {}
      },
      "source": [
        "!curl http://localhost:6006"
      ],
      "execution_count": null,
      "outputs": []
    },
    {
      "cell_type": "code",
      "metadata": {
        "id": "WprcAcrkZ_C0",
        "colab_type": "code",
        "colab": {}
      },
      "source": [
        ""
      ],
      "execution_count": null,
      "outputs": []
    },
    {
      "cell_type": "code",
      "metadata": {
        "id": "hBfBi3SgZ_AB",
        "colab_type": "code",
        "colab": {}
      },
      "source": [
        ""
      ],
      "execution_count": null,
      "outputs": []
    },
    {
      "cell_type": "code",
      "metadata": {
        "id": "fxYYzShaZ-6_",
        "colab_type": "code",
        "colab": {}
      },
      "source": [
        "dense_layers = [0,1,2]\n",
        "layer_sizes = [16, 32 ,64]\n",
        "conv_layers = [1,2,3]\n",
        "\n",
        "# for dense_layer in dense_layers:\n",
        "#   for layer_size in layer_sizes:\n",
        "#     for conv_layer in conv_layers:\n",
        "#       print(f'{conv_layer}-conv-{layer_size}-node-{dense_layer}-dense')\n",
        "\n",
        "for dense_layer in dense_layers:\n",
        "  for layer_size in layer_sizes:\n",
        "    for conv_layer in conv_layers:\n",
        "      \n",
        "      model = Sequential()\n",
        "      \n",
        "      model.add(Conv2D(layer_size, (5,5), input_shape = X.shape[1:]))\n",
        "      model.add(Activation('relu'))\n",
        "      model.add(MaxPooling2D(pool_size=(2,2)))\n",
        "\n",
        "      for l in range(conv_layer -1):\n",
        "        model.add(Conv2D(layer_size, (5,5)))\n",
        "        model.add(Activation('relu'))\n",
        "        model.add(MaxPooling2D(pool_size=(2,2)))\n",
        "\n",
        "      model.add(Flatten())\n",
        "\n",
        "      for _ in range(dense_layer):\n",
        "        model.add(Dense(layer_size))\n",
        "        model.add(Activation('relu'))\n",
        "\n",
        "      model.add(Dense(1))\n",
        "      model.add(Activation('sigmoid'))\n",
        "\n",
        "      NAME = 'cat_dog-Multi1'\n",
        "      log_dir = f'/content/drive/My Drive/datasets/cat_dog_training/{NAME}'\n",
        "      tensorboard = TensorBoard(log_dir)\n",
        "\n",
        "      model.compile(loss='binary_crossentropy',\n",
        "                    optimizer='adam',\n",
        "                    metrics=['accuracy']\n",
        "                    )\n",
        "\n",
        "      model.fit(X[:750], y[:750], batch_size=32, epochs=10, validation_split=0.2, callbacks=[tensorboard])\n",
        "      break"
      ],
      "execution_count": null,
      "outputs": []
    },
    {
      "cell_type": "code",
      "metadata": {
        "id": "OuYAWy2xZ-4K",
        "colab_type": "code",
        "colab": {}
      },
      "source": [
        "%load_ext tensorboard"
      ],
      "execution_count": null,
      "outputs": []
    },
    {
      "cell_type": "code",
      "metadata": {
        "id": "IxuH46-5n_SC",
        "colab_type": "code",
        "colab": {}
      },
      "source": [
        ""
      ],
      "execution_count": null,
      "outputs": []
    },
    {
      "cell_type": "code",
      "metadata": {
        "id": "30jtwj8hn7kQ",
        "colab_type": "code",
        "colab": {}
      },
      "source": [
        "logs_base_dir = '/content/drive/My Drive/datasets/cat_dog_training/'\n",
        "%tensorboard --logdir /content/drive/My\\ Drive/datasets/cat_dog_training/cat_dog-Multi1"
      ],
      "execution_count": null,
      "outputs": []
    },
    {
      "cell_type": "code",
      "metadata": {
        "id": "uKxkklS0oV98",
        "colab_type": "code",
        "colab": {
          "base_uri": "https://localhost:8080/",
          "height": 34
        },
        "outputId": "3246fbce-4d07-49a5-a856-e15415835d5f"
      },
      "source": [
        "!kill!"
      ],
      "execution_count": null,
      "outputs": [
        {
          "output_type": "stream",
          "text": [
            "/bin/bash: kill!: command not found\n"
          ],
          "name": "stdout"
        }
      ]
    },
    {
      "cell_type": "code",
      "metadata": {
        "id": "_xOgf5aTqB2U",
        "colab_type": "code",
        "colab": {}
      },
      "source": [
        ""
      ],
      "execution_count": null,
      "outputs": []
    }
  ]
}